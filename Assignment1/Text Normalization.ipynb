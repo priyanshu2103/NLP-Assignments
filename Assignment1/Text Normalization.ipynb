{
  "nbformat": 4,
  "nbformat_minor": 0,
  "metadata": {
    "colab": {
      "name": "170101049_Assignment1.ipynb",
      "provenance": [],
      "collapsed_sections": []
    },
    "kernelspec": {
      "name": "python3",
      "display_name": "Python 3"
    }
  },
  "cells": [
    {
      "cell_type": "markdown",
      "metadata": {
        "id": "Osb_Tfm0xQ5A"
      },
      "source": [
        "**Downloading the text corpora**"
      ]
    },
    {
      "cell_type": "code",
      "metadata": {
        "id": "coeu3P9GZhJ5",
        "outputId": "f6d0a108-fae4-405a-adc6-de1dfeab3f27",
        "colab": {
          "base_uri": "https://localhost:8080/",
          "height": 373
        }
      },
      "source": [
        "!wget https://www.dropbox.com/s/1agrh5hdnkqd24c/en_wiki.txt?dl=0        # downloads the dataset\n",
        "!mv en_wiki.txt?dl=0 en_data.txt"
      ],
      "execution_count": null,
      "outputs": [
        {
          "output_type": "stream",
          "text": [
            "--2020-09-30 05:28:25--  https://www.dropbox.com/s/1agrh5hdnkqd24c/en_wiki.txt?dl=0\n",
            "Resolving www.dropbox.com (www.dropbox.com)... 162.125.82.1, 2620:100:6032:1::a27d:5201\n",
            "Connecting to www.dropbox.com (www.dropbox.com)|162.125.82.1|:443... connected.\n",
            "HTTP request sent, awaiting response... 301 Moved Permanently\n",
            "Location: /s/raw/1agrh5hdnkqd24c/en_wiki.txt [following]\n",
            "--2020-09-30 05:28:26--  https://www.dropbox.com/s/raw/1agrh5hdnkqd24c/en_wiki.txt\n",
            "Reusing existing connection to www.dropbox.com:443.\n",
            "HTTP request sent, awaiting response... 302 Found\n",
            "Location: https://uce3a244e94afe080cb7389b7826.dl.dropboxusercontent.com/cd/0/inline/BAWOJ0OrwhVwJMmXy_DH4DV-kAwJZdNBfgthfdJPpWNTisnJRmCoODNSy0PDNUQP-gM3Ckq0aQewH0GG220gVcWMrCe74l-WJKuckoCnjXXkztrPn-3ZBUBAGg6irSXMqKw/file# [following]\n",
            "--2020-09-30 05:28:26--  https://uce3a244e94afe080cb7389b7826.dl.dropboxusercontent.com/cd/0/inline/BAWOJ0OrwhVwJMmXy_DH4DV-kAwJZdNBfgthfdJPpWNTisnJRmCoODNSy0PDNUQP-gM3Ckq0aQewH0GG220gVcWMrCe74l-WJKuckoCnjXXkztrPn-3ZBUBAGg6irSXMqKw/file\n",
            "Resolving uce3a244e94afe080cb7389b7826.dl.dropboxusercontent.com (uce3a244e94afe080cb7389b7826.dl.dropboxusercontent.com)... 162.125.82.15, 2620:100:6032:15::a27d:520f\n",
            "Connecting to uce3a244e94afe080cb7389b7826.dl.dropboxusercontent.com (uce3a244e94afe080cb7389b7826.dl.dropboxusercontent.com)|162.125.82.15|:443... connected.\n",
            "HTTP request sent, awaiting response... 200 OK\n",
            "Length: 103092525 (98M) [text/plain]\n",
            "Saving to: ‘en_wiki.txt?dl=0’\n",
            "\n",
            "en_wiki.txt?dl=0    100%[===================>]  98.32M  13.6MB/s    in 7.0s    \n",
            "\n",
            "2020-09-30 05:28:33 (14.0 MB/s) - ‘en_wiki.txt?dl=0’ saved [103092525/103092525]\n",
            "\n"
          ],
          "name": "stdout"
        }
      ]
    },
    {
      "cell_type": "code",
      "metadata": {
        "id": "jJR9uzwjcrik",
        "outputId": "24db0561-e26f-493d-832e-d9d483ff5259",
        "colab": {
          "base_uri": "https://localhost:8080/",
          "height": 373
        }
      },
      "source": [
        "!wget https://www.dropbox.com/s/xrx4r9ep28lq5jp/hi_wiki.txt?dl=0\n",
        "!mv hi_wiki.txt?dl=0 hi_data.txt"
      ],
      "execution_count": null,
      "outputs": [
        {
          "output_type": "stream",
          "text": [
            "--2020-09-30 05:28:34--  https://www.dropbox.com/s/xrx4r9ep28lq5jp/hi_wiki.txt?dl=0\n",
            "Resolving www.dropbox.com (www.dropbox.com)... 162.125.82.1, 2620:100:6032:1::a27d:5201\n",
            "Connecting to www.dropbox.com (www.dropbox.com)|162.125.82.1|:443... connected.\n",
            "HTTP request sent, awaiting response... 301 Moved Permanently\n",
            "Location: /s/raw/xrx4r9ep28lq5jp/hi_wiki.txt [following]\n",
            "--2020-09-30 05:28:34--  https://www.dropbox.com/s/raw/xrx4r9ep28lq5jp/hi_wiki.txt\n",
            "Reusing existing connection to www.dropbox.com:443.\n",
            "HTTP request sent, awaiting response... 302 Found\n",
            "Location: https://uc312f48fecde0bb0ca55d217f5e.dl.dropboxusercontent.com/cd/0/inline/BAW-E8rlTgMH4xXOtAGtlJvzJUtloqyxBD40qV6D-_1LCaqqvlXFnPnQtFaLdb0OZ57X92rGsawr9ExBJQZUwyb8KuleLjyjn_95wAA2MiQTMgH4x84WeMI8qid7AFMEBYs/file# [following]\n",
            "--2020-09-30 05:28:35--  https://uc312f48fecde0bb0ca55d217f5e.dl.dropboxusercontent.com/cd/0/inline/BAW-E8rlTgMH4xXOtAGtlJvzJUtloqyxBD40qV6D-_1LCaqqvlXFnPnQtFaLdb0OZ57X92rGsawr9ExBJQZUwyb8KuleLjyjn_95wAA2MiQTMgH4x84WeMI8qid7AFMEBYs/file\n",
            "Resolving uc312f48fecde0bb0ca55d217f5e.dl.dropboxusercontent.com (uc312f48fecde0bb0ca55d217f5e.dl.dropboxusercontent.com)... 162.125.82.15, 2620:100:6032:15::a27d:520f\n",
            "Connecting to uc312f48fecde0bb0ca55d217f5e.dl.dropboxusercontent.com (uc312f48fecde0bb0ca55d217f5e.dl.dropboxusercontent.com)|162.125.82.15|:443... connected.\n",
            "HTTP request sent, awaiting response... 200 OK\n",
            "Length: 103092545 (98M) [text/plain]\n",
            "Saving to: ‘hi_wiki.txt?dl=0’\n",
            "\n",
            "hi_wiki.txt?dl=0    100%[===================>]  98.32M  11.3MB/s    in 9.7s    \n",
            "\n",
            "2020-09-30 05:28:46 (10.1 MB/s) - ‘hi_wiki.txt?dl=0’ saved [103092545/103092545]\n",
            "\n"
          ],
          "name": "stdout"
        }
      ]
    },
    {
      "cell_type": "code",
      "metadata": {
        "id": "dr1JtHQIeFPG"
      },
      "source": [
        "file_en = \"en_data.txt\"\n",
        "file_hi = \"hi_data.txt\""
      ],
      "execution_count": null,
      "outputs": []
    },
    {
      "cell_type": "code",
      "metadata": {
        "id": "jpLhDF4WerWL"
      },
      "source": [
        "# reading the downloaded data and storing them in strings\n",
        "\n",
        "with open(file_en, \"r\") as file1:\n",
        "    en_FileContent = file1.read()\n",
        "\n",
        "with open(file_hi, \"r\") as file2:\n",
        "    hi_FileContent = file2.read()"
      ],
      "execution_count": null,
      "outputs": []
    },
    {
      "cell_type": "markdown",
      "metadata": {
        "id": "sEu9mQz6xNsi"
      },
      "source": [
        "**SECTION 1.3.1**"
      ]
    },
    {
      "cell_type": "code",
      "metadata": {
        "id": "bMWdsgB8oqyj",
        "outputId": "e9bc2149-6041-4baf-9e78-e234c74db41a",
        "colab": {
          "base_uri": "https://localhost:8080/",
          "height": 793
        }
      },
      "source": [
        "from nltk.tokenize import sent_tokenize, word_tokenize\n",
        "import nltk\n",
        "nltk.download('punkt')  # in order to make \"nltk.tokenize.word_tokenize\" work\n",
        "\n",
        "!pip install spacy\n",
        "!python -m spacy download en_core_web_sm\n",
        "from spacy.lang.en import English\n",
        "\n",
        "from IPython.display import display, Markdown\n",
        "import warnings\n",
        "warnings.filterwarnings('ignore')"
      ],
      "execution_count": null,
      "outputs": [
        {
          "output_type": "stream",
          "text": [
            "[nltk_data] Downloading package punkt to /root/nltk_data...\n",
            "[nltk_data]   Unzipping tokenizers/punkt.zip.\n",
            "Requirement already satisfied: spacy in /usr/local/lib/python3.6/dist-packages (2.2.4)\n",
            "Requirement already satisfied: preshed<3.1.0,>=3.0.2 in /usr/local/lib/python3.6/dist-packages (from spacy) (3.0.2)\n",
            "Requirement already satisfied: srsly<1.1.0,>=1.0.2 in /usr/local/lib/python3.6/dist-packages (from spacy) (1.0.2)\n",
            "Requirement already satisfied: catalogue<1.1.0,>=0.0.7 in /usr/local/lib/python3.6/dist-packages (from spacy) (1.0.0)\n",
            "Requirement already satisfied: plac<1.2.0,>=0.9.6 in /usr/local/lib/python3.6/dist-packages (from spacy) (1.1.3)\n",
            "Requirement already satisfied: blis<0.5.0,>=0.4.0 in /usr/local/lib/python3.6/dist-packages (from spacy) (0.4.1)\n",
            "Requirement already satisfied: tqdm<5.0.0,>=4.38.0 in /usr/local/lib/python3.6/dist-packages (from spacy) (4.41.1)\n",
            "Requirement already satisfied: setuptools in /usr/local/lib/python3.6/dist-packages (from spacy) (50.3.0)\n",
            "Requirement already satisfied: numpy>=1.15.0 in /usr/local/lib/python3.6/dist-packages (from spacy) (1.18.5)\n",
            "Requirement already satisfied: murmurhash<1.1.0,>=0.28.0 in /usr/local/lib/python3.6/dist-packages (from spacy) (1.0.2)\n",
            "Requirement already satisfied: requests<3.0.0,>=2.13.0 in /usr/local/lib/python3.6/dist-packages (from spacy) (2.23.0)\n",
            "Requirement already satisfied: thinc==7.4.0 in /usr/local/lib/python3.6/dist-packages (from spacy) (7.4.0)\n",
            "Requirement already satisfied: cymem<2.1.0,>=2.0.2 in /usr/local/lib/python3.6/dist-packages (from spacy) (2.0.3)\n",
            "Requirement already satisfied: wasabi<1.1.0,>=0.4.0 in /usr/local/lib/python3.6/dist-packages (from spacy) (0.8.0)\n",
            "Requirement already satisfied: importlib-metadata>=0.20; python_version < \"3.8\" in /usr/local/lib/python3.6/dist-packages (from catalogue<1.1.0,>=0.0.7->spacy) (2.0.0)\n",
            "Requirement already satisfied: idna<3,>=2.5 in /usr/local/lib/python3.6/dist-packages (from requests<3.0.0,>=2.13.0->spacy) (2.10)\n",
            "Requirement already satisfied: urllib3!=1.25.0,!=1.25.1,<1.26,>=1.21.1 in /usr/local/lib/python3.6/dist-packages (from requests<3.0.0,>=2.13.0->spacy) (1.24.3)\n",
            "Requirement already satisfied: chardet<4,>=3.0.2 in /usr/local/lib/python3.6/dist-packages (from requests<3.0.0,>=2.13.0->spacy) (3.0.4)\n",
            "Requirement already satisfied: certifi>=2017.4.17 in /usr/local/lib/python3.6/dist-packages (from requests<3.0.0,>=2.13.0->spacy) (2020.6.20)\n",
            "Requirement already satisfied: zipp>=0.5 in /usr/local/lib/python3.6/dist-packages (from importlib-metadata>=0.20; python_version < \"3.8\"->catalogue<1.1.0,>=0.0.7->spacy) (3.2.0)\n",
            "Requirement already satisfied: en_core_web_sm==2.2.5 from https://github.com/explosion/spacy-models/releases/download/en_core_web_sm-2.2.5/en_core_web_sm-2.2.5.tar.gz#egg=en_core_web_sm==2.2.5 in /usr/local/lib/python3.6/dist-packages (2.2.5)\n",
            "Requirement already satisfied: spacy>=2.2.2 in /usr/local/lib/python3.6/dist-packages (from en_core_web_sm==2.2.5) (2.2.4)\n",
            "Requirement already satisfied: numpy>=1.15.0 in /usr/local/lib/python3.6/dist-packages (from spacy>=2.2.2->en_core_web_sm==2.2.5) (1.18.5)\n",
            "Requirement already satisfied: catalogue<1.1.0,>=0.0.7 in /usr/local/lib/python3.6/dist-packages (from spacy>=2.2.2->en_core_web_sm==2.2.5) (1.0.0)\n",
            "Requirement already satisfied: blis<0.5.0,>=0.4.0 in /usr/local/lib/python3.6/dist-packages (from spacy>=2.2.2->en_core_web_sm==2.2.5) (0.4.1)\n",
            "Requirement already satisfied: tqdm<5.0.0,>=4.38.0 in /usr/local/lib/python3.6/dist-packages (from spacy>=2.2.2->en_core_web_sm==2.2.5) (4.41.1)\n",
            "Requirement already satisfied: wasabi<1.1.0,>=0.4.0 in /usr/local/lib/python3.6/dist-packages (from spacy>=2.2.2->en_core_web_sm==2.2.5) (0.8.0)\n",
            "Requirement already satisfied: plac<1.2.0,>=0.9.6 in /usr/local/lib/python3.6/dist-packages (from spacy>=2.2.2->en_core_web_sm==2.2.5) (1.1.3)\n",
            "Requirement already satisfied: murmurhash<1.1.0,>=0.28.0 in /usr/local/lib/python3.6/dist-packages (from spacy>=2.2.2->en_core_web_sm==2.2.5) (1.0.2)\n",
            "Requirement already satisfied: thinc==7.4.0 in /usr/local/lib/python3.6/dist-packages (from spacy>=2.2.2->en_core_web_sm==2.2.5) (7.4.0)\n",
            "Requirement already satisfied: srsly<1.1.0,>=1.0.2 in /usr/local/lib/python3.6/dist-packages (from spacy>=2.2.2->en_core_web_sm==2.2.5) (1.0.2)\n",
            "Requirement already satisfied: setuptools in /usr/local/lib/python3.6/dist-packages (from spacy>=2.2.2->en_core_web_sm==2.2.5) (50.3.0)\n",
            "Requirement already satisfied: preshed<3.1.0,>=3.0.2 in /usr/local/lib/python3.6/dist-packages (from spacy>=2.2.2->en_core_web_sm==2.2.5) (3.0.2)\n",
            "Requirement already satisfied: cymem<2.1.0,>=2.0.2 in /usr/local/lib/python3.6/dist-packages (from spacy>=2.2.2->en_core_web_sm==2.2.5) (2.0.3)\n",
            "Requirement already satisfied: requests<3.0.0,>=2.13.0 in /usr/local/lib/python3.6/dist-packages (from spacy>=2.2.2->en_core_web_sm==2.2.5) (2.23.0)\n",
            "Requirement already satisfied: importlib-metadata>=0.20; python_version < \"3.8\" in /usr/local/lib/python3.6/dist-packages (from catalogue<1.1.0,>=0.0.7->spacy>=2.2.2->en_core_web_sm==2.2.5) (2.0.0)\n",
            "Requirement already satisfied: urllib3!=1.25.0,!=1.25.1,<1.26,>=1.21.1 in /usr/local/lib/python3.6/dist-packages (from requests<3.0.0,>=2.13.0->spacy>=2.2.2->en_core_web_sm==2.2.5) (1.24.3)\n",
            "Requirement already satisfied: chardet<4,>=3.0.2 in /usr/local/lib/python3.6/dist-packages (from requests<3.0.0,>=2.13.0->spacy>=2.2.2->en_core_web_sm==2.2.5) (3.0.4)\n",
            "Requirement already satisfied: certifi>=2017.4.17 in /usr/local/lib/python3.6/dist-packages (from requests<3.0.0,>=2.13.0->spacy>=2.2.2->en_core_web_sm==2.2.5) (2020.6.20)\n",
            "Requirement already satisfied: idna<3,>=2.5 in /usr/local/lib/python3.6/dist-packages (from requests<3.0.0,>=2.13.0->spacy>=2.2.2->en_core_web_sm==2.2.5) (2.10)\n",
            "Requirement already satisfied: zipp>=0.5 in /usr/local/lib/python3.6/dist-packages (from importlib-metadata>=0.20; python_version < \"3.8\"->catalogue<1.1.0,>=0.0.7->spacy>=2.2.2->en_core_web_sm==2.2.5) (3.2.0)\n",
            "\u001b[38;5;2m✔ Download and installation successful\u001b[0m\n",
            "You can now load the model via spacy.load('en_core_web_sm')\n"
          ],
          "name": "stdout"
        }
      ]
    },
    {
      "cell_type": "code",
      "metadata": {
        "id": "Xjec7MFAG0UQ",
        "outputId": "f194bbf6-8666-4856-9e28-3e4877915255",
        "colab": {
          "base_uri": "https://localhost:8080/",
          "height": 632
        }
      },
      "source": [
        "# Analysis using NLTK\n",
        "sent_tokens_en = nltk.sent_tokenize(en_FileContent)\n",
        "tokens_en = nltk.word_tokenize(en_FileContent)\n",
        "\n",
        "display(Markdown(\"##Analysis of English corpus using NLTK library\"))\n",
        "display(Markdown(\"###No of sentences after sentence segmentation are: {}\".format(len(sent_tokens_en))))\n",
        "display(Markdown(\"###Example sentences formed are:\"))\n",
        "print(sent_tokens_en[0:20])\n",
        "display(Markdown(\"###No of word tokens after word tokenization are: {}\".format(len(tokens_en))))\n",
        "display(Markdown(\"###Example tokens formed are:\"))\n",
        "print(tokens_en[0:20])\n",
        "\n",
        "# Analysis using spacy\n",
        "nlp = English()\n",
        "sentencizer = nlp.create_pipe(\"sentencizer\")          # sentencizer is a faster and more memory efficient method in spacy for segmentation and tokenization\n",
        "nlp.max_length = 30000000                             # spacy by default limits to a text of max length 1000000 which is insufficient for our purpose. Can be increased further if maximum length exceeded error comes\n",
        "nlp.add_pipe(sentencizer)\n",
        "doc = nlp(en_FileContent[0:len(en_FileContent)//4])   # due to memory constraints in Colab, we are using 1/4th of the text corpus\n",
        "\n",
        "sents_list = list(doc.sents)\n",
        "tokens_list = []\n",
        "for token in doc:\n",
        "  tokens_list.append(token)\n",
        "\n",
        "display(Markdown(\"##Analysis of English corpus(1/4th of the corpus used) using Spacy library\"))\n",
        "display(Markdown(\"###No of sentences after sentence segmentation are: {}\".format(len(sents_list))))\n",
        "display(Markdown(\"###Example sentences formed are:\"))\n",
        "print(sents_list[0:20])\n",
        "display(Markdown(\"###No of word tokens after word tokenization are: {}\".format(len(tokens_list))))\n",
        "display(Markdown(\"###Example tokens formed are:\"))\n",
        "print(tokens_list[0:20])\n",
        "\n"
      ],
      "execution_count": null,
      "outputs": [
        {
          "output_type": "display_data",
          "data": {
            "text/markdown": "##Analysis of English corpus using NLTK library",
            "text/plain": [
              "<IPython.core.display.Markdown object>"
            ]
          },
          "metadata": {
            "tags": []
          }
        },
        {
          "output_type": "display_data",
          "data": {
            "text/markdown": "###No of sentences after sentence segmentation are: 761582",
            "text/plain": [
              "<IPython.core.display.Markdown object>"
            ]
          },
          "metadata": {
            "tags": []
          }
        },
        {
          "output_type": "display_data",
          "data": {
            "text/markdown": "###Example sentences formed are:",
            "text/plain": [
              "<IPython.core.display.Markdown object>"
            ]
          },
          "metadata": {
            "tags": []
          }
        },
        {
          "output_type": "stream",
          "text": [
            "['The word \"atom\" was coined by ancient Greek philosophers.', 'However, these ideas were founded in philosophical and theological reasoning rather than evidence and experimentation.', 'As a result, their views on what atoms look like and how they behave were incorrect.', 'They also could not convince everybody, so atomism was but one of a number of competing theories on the nature of matter.', 'It was not until the 19th century that the idea was embraced and refined by scientists, when the blossoming science of chemistry produced discoveries that only the concept of atoms could explain.', 'In the early 1800s, John Dalton used the concept of atoms to explain why elements always react in ratios of small whole numbers (the law of multiple proportions).', 'For instance, there are two types of tin oxide: one is 88.1% tin and 11.9% oxygen and the other is 78.7% tin and 21.3% oxygen (tin(II) oxide and tin dioxide respectively).', 'This means that 100g of tin will combine either with 13.5g or 27g of oxygen.', '13.5 and 27 form a ratio of 1:2, a ratio of small whole numbers.', 'This common pattern in chemistry suggested to Dalton that elements react in whole number multiples of discrete units—in other words, atoms.', 'In the case of tin oxides, one tin atom will combine with either one or two oxygen atoms.', 'Dalton also believed atomic theory could explain why water absorbs different gases in different proportions.', 'For example, he found that water absorbs carbon dioxide far better than it absorbs nitrogen.', \"Dalton hypothesized this was due to the differences in mass and complexity of the gases' respective particles.\", 'Indeed, carbon dioxide molecules (CO) are heavier and larger than nitrogen molecules (N).', 'In 1827, botanist Robert Brown used a microscope to look at dust grains floating in water and discovered that they moved about erratically, a phenomenon that became known as \"Brownian motion\".', 'This was thought to be caused by water molecules knocking the grains about.', 'In 1905 Albert Einstein proved the reality of these molecules and their motions by producing the first Statistical physics analysis of Brownian motion.', \"French physicist Jean Perrin used Einstein's work to experimentally determine the mass and dimensions of atoms, thereby conclusively verifying Dalton's atomic theory.\", 'The physicist J. J. Thomson measured the mass of cathode rays, showing they were made of particles, but were around 1800 times lighter than the lightest atom, hydrogen.']\n"
          ],
          "name": "stdout"
        },
        {
          "output_type": "display_data",
          "data": {
            "text/markdown": "###No of word tokens after word tokenization are: 19602236",
            "text/plain": [
              "<IPython.core.display.Markdown object>"
            ]
          },
          "metadata": {
            "tags": []
          }
        },
        {
          "output_type": "display_data",
          "data": {
            "text/markdown": "###Example tokens formed are:",
            "text/plain": [
              "<IPython.core.display.Markdown object>"
            ]
          },
          "metadata": {
            "tags": []
          }
        },
        {
          "output_type": "stream",
          "text": [
            "['The', 'word', '``', 'atom', \"''\", 'was', 'coined', 'by', 'ancient', 'Greek', 'philosophers', '.', 'However', ',', 'these', 'ideas', 'were', 'founded', 'in', 'philosophical']\n"
          ],
          "name": "stdout"
        },
        {
          "output_type": "display_data",
          "data": {
            "text/markdown": "##Analysis of English corpus(1/4th of the corpus used) using Spacy library",
            "text/plain": [
              "<IPython.core.display.Markdown object>"
            ]
          },
          "metadata": {
            "tags": []
          }
        },
        {
          "output_type": "display_data",
          "data": {
            "text/markdown": "###No of sentences after sentence segmentation are: 212133",
            "text/plain": [
              "<IPython.core.display.Markdown object>"
            ]
          },
          "metadata": {
            "tags": []
          }
        },
        {
          "output_type": "display_data",
          "data": {
            "text/markdown": "###Example sentences formed are:",
            "text/plain": [
              "<IPython.core.display.Markdown object>"
            ]
          },
          "metadata": {
            "tags": []
          }
        },
        {
          "output_type": "stream",
          "text": [
            "[The word \"atom\" was coined by ancient Greek philosophers., However, these ideas were founded in philosophical and theological reasoning rather than evidence and experimentation., As a result, their views on what atoms look like and how they behave were incorrect., They also could not convince everybody, so atomism was but one of a number of competing theories on the nature of matter., It was not until the 19th century that the idea was embraced and refined by scientists, when the blossoming science of chemistry produced discoveries that only the concept of atoms could explain., \n",
            "\n",
            "In the early 1800s, John Dalton used the concept of atoms to explain why elements always react in ratios of small whole numbers (the law of multiple proportions)., For instance, there are two types of tin oxide: one is 88.1% tin and 11.9% oxygen and the other is 78.7% tin and 21.3% oxygen (tin(II) oxide and tin dioxide respectively)., This means that 100g of tin will combine either with 13.5g or 27g of oxygen., 13.5 and 27 form a ratio of 1:2, a ratio of small whole numbers., This common pattern in chemistry suggested to Dalton that elements react in whole number multiples of discrete units—in other words, atoms., In the case of tin oxides, one tin atom will combine with either one or two oxygen atoms., \n",
            "\n",
            "Dalton also believed atomic theory could explain why water absorbs different gases in different proportions., For example, he found that water absorbs carbon dioxide far better than it absorbs nitrogen., Dalton hypothesized this was due to the differences in mass and complexity of the gases' respective particles., Indeed, carbon dioxide molecules (CO) are heavier and larger than nitrogen molecules (N)., \n",
            "\n",
            "In 1827, botanist Robert Brown used a microscope to look at dust grains floating in water and discovered that they moved about erratically, a phenomenon that became known as \"Brownian motion\"., This was thought to be caused by water molecules knocking the grains about., In 1905 Albert Einstein proved the reality of these molecules and their motions by producing the first Statistical physics analysis of Brownian motion., French physicist Jean Perrin used Einstein's work to experimentally determine the mass and dimensions of atoms, thereby conclusively verifying Dalton's atomic theory., \n",
            "\n",
            "The physicist J. J. Thomson measured the mass of cathode rays, showing they were made of particles, but were around 1800 times lighter than the lightest atom, hydrogen.]\n"
          ],
          "name": "stdout"
        },
        {
          "output_type": "display_data",
          "data": {
            "text/markdown": "###No of word tokens after word tokenization are: 5229511",
            "text/plain": [
              "<IPython.core.display.Markdown object>"
            ]
          },
          "metadata": {
            "tags": []
          }
        },
        {
          "output_type": "display_data",
          "data": {
            "text/markdown": "###Example tokens formed are:",
            "text/plain": [
              "<IPython.core.display.Markdown object>"
            ]
          },
          "metadata": {
            "tags": []
          }
        },
        {
          "output_type": "stream",
          "text": [
            "[The, word, \", atom, \", was, coined, by, ancient, Greek, philosophers, ., However, ,, these, ideas, were, founded, in, philosophical]\n"
          ],
          "name": "stdout"
        }
      ]
    },
    {
      "cell_type": "code",
      "metadata": {
        "id": "RckqTkSy-114",
        "outputId": "5df405e8-7d8e-4739-f02e-dedaabbe2c68",
        "colab": {
          "base_uri": "https://localhost:8080/",
          "height": 202
        }
      },
      "source": [
        "!pip install indic-nlp-library\n",
        "from indicnlp.tokenize import sentence_tokenize, indic_tokenize\n",
        "del doc                                                           # free the previous use of this variable(used earlier for English, not needed further)\n",
        "from spacy.lang.hi import Hindi"
      ],
      "execution_count": null,
      "outputs": [
        {
          "output_type": "stream",
          "text": [
            "Collecting indic-nlp-library\n",
            "  Downloading https://files.pythonhosted.org/packages/2f/51/f4e4542a226055b73a621ad442c16ae2c913d6b497283c99cae7a9661e6c/indic_nlp_library-0.71-py3-none-any.whl\n",
            "Requirement already satisfied: pandas in /usr/local/lib/python3.6/dist-packages (from indic-nlp-library) (1.1.2)\n",
            "Collecting morfessor\n",
            "  Downloading https://files.pythonhosted.org/packages/39/e6/7afea30be2ee4d29ce9de0fa53acbb033163615f849515c0b1956ad074ee/Morfessor-2.0.6-py3-none-any.whl\n",
            "Requirement already satisfied: numpy in /usr/local/lib/python3.6/dist-packages (from indic-nlp-library) (1.18.5)\n",
            "Requirement already satisfied: pytz>=2017.2 in /usr/local/lib/python3.6/dist-packages (from pandas->indic-nlp-library) (2018.9)\n",
            "Requirement already satisfied: python-dateutil>=2.7.3 in /usr/local/lib/python3.6/dist-packages (from pandas->indic-nlp-library) (2.8.1)\n",
            "Requirement already satisfied: six>=1.5 in /usr/local/lib/python3.6/dist-packages (from python-dateutil>=2.7.3->pandas->indic-nlp-library) (1.15.0)\n",
            "Installing collected packages: morfessor, indic-nlp-library\n",
            "Successfully installed indic-nlp-library-0.71 morfessor-2.0.6\n"
          ],
          "name": "stdout"
        }
      ]
    },
    {
      "cell_type": "code",
      "metadata": {
        "id": "SUIMFd0m_Mfl",
        "outputId": "4890e2c6-587e-4401-9130-491c15896358",
        "colab": {
          "base_uri": "https://localhost:8080/",
          "height": 766
        }
      },
      "source": [
        "# Analysis using Indic-NLP\n",
        "sent_tokens_hi = sentence_tokenize.sentence_split(hi_FileContent, lang='hi')\n",
        "tokens_hi = indic_tokenize.trivial_tokenize(hi_FileContent)\n",
        "\n",
        "display(Markdown(\"##Analysis of Hindi corpus using Indic-NLP library\"))\n",
        "display(Markdown(\"###No of sentences after sentence segmentation are: {}\".format(len(sent_tokens_hi))))\n",
        "display(Markdown(\"###Example sentences formed are:\"))\n",
        "print(sent_tokens_hi[0:20])\n",
        "display(Markdown(\"###No of word tokens after word tokenization are: {}\".format(len(tokens_hi))))\n",
        "display(Markdown(\"###Example tokens formed are:\"))\n",
        "print(tokens_hi[0:20])\n",
        "\n",
        "# Analysis using Spacy (1/4th of the corpus used)\n",
        "nlp = Hindi()\n",
        "sentencizer = nlp.create_pipe(\"sentencizer\")    \n",
        "nlp.max_length = 30000000                             # spacy by default limits to a text of max length 1000000 which is insufficient for our purpose. Can be increased further is maximum length exceeded error comes\n",
        "nlp.add_pipe(sentencizer)\n",
        "doc = nlp(hi_FileContent[0:len(hi_FileContent)//4])   # due to memory constraints in Colab, we are using 1/4th of the text corpus\n",
        "\n",
        "# free the previous instance of Spacy Analysis(not needed further)\n",
        "del sents_list\n",
        "del tokens_list\n",
        "\n",
        "sents_list = list(doc.sents)\n",
        "tokens_list = []\n",
        "for token in doc:\n",
        "  tokens_list.append(token)\n",
        "\n",
        "display(Markdown(\"##Analysis of Hindi corpus(1/4th of the corpus used) using Spacy library\"))\n",
        "display(Markdown(\"###No of sentences after sentence segmentation are: {}\".format(len(sents_list))))\n",
        "display(Markdown(\"###Example sentences formed are:\"))\n",
        "print(sents_list[0:20])\n",
        "display(Markdown(\"###No of word tokens after word tokenization are: {}\".format(len(tokens_list))))\n",
        "display(Markdown(\"###Example tokens formed are:\"))\n",
        "print(tokens_list[0:20])"
      ],
      "execution_count": null,
      "outputs": [
        {
          "output_type": "display_data",
          "data": {
            "text/markdown": "##Analysis of Hindi corpus using Indic-NLP library",
            "text/plain": [
              "<IPython.core.display.Markdown object>"
            ]
          },
          "metadata": {
            "tags": []
          }
        },
        {
          "output_type": "display_data",
          "data": {
            "text/markdown": "###No of sentences after sentence segmentation are: 348593",
            "text/plain": [
              "<IPython.core.display.Markdown object>"
            ]
          },
          "metadata": {
            "tags": []
          }
        },
        {
          "output_type": "display_data",
          "data": {
            "text/markdown": "###Example sentences formed are:",
            "text/plain": [
              "<IPython.core.display.Markdown object>"
            ]
          },
          "metadata": {
            "tags": []
          }
        },
        {
          "output_type": "stream",
          "text": [
            "['मास्टर ऑफ़ हेल्थ एडमिनिस्ट्रेशन या मास्टर ऑफ हेल्थकेयर एडमिनिस्ट्रेशन (एमएचए या एम. एच. ए) स्नातकोत्तर (पोस्ट ग्रेजुएशन) की एक पेशेवर डिग्री है जो स्वास्थ्य प्रशासन के क्षेत्र में दी जाती हैं।', 'यह उन छात्रों को प्रदान की जाती हैं जिन्होंने स्वास्थ्य प्रशासन, अस्पताल प्रबंधन एवं अन्य स्वास्थ्य सेवा संगठनों के क्षेत्र में जरूरी ज्ञान और दक्षता हासिल की हैं।', 'इन पाठ्यक्रमो में परिस्थितियों के अनुसार इनके सरंचना में अंतर हो सकता हैं हालांकि व्यवसायी-शिक्षक मॉडल कार्यक्रम आमतौर पर चिकित्सा, स्वास्थ्य व्यवसायों या संबद्ध स्वास्थ्य के कॉलेजों में पाए जाते हैं, कक्षा-आधारित कार्यक्रम व्यवसाय या सार्वजनिक स्वास्थ्य के कॉलेजों में होते हैं।', 'इस पाठ्यक्रम के अध्ययन के दौरान आम तौर पर विद्यार्थियों को जनसंख्या स्वास्थ्य, स्वास्थ्य देखभाल अर्थशास्त्र, स्वास्थ्य नीति, संगठनात्मक व्यवहार, स्वास्थ्य से जुड़े संगठनों के प्रबंधन, स्वास्थ्य विपणन और संचार, मानव संसाधन प्रबंधन, सूचना प्रणाली प्रबंधन के अध्ययन एवं अन्य क्षेत्रों में व्यावहारिक अनुभव की भी आवश्यकता होती है।', 'यह डिग्री प्रोग्राम स्वास्थ्य विषय के स्नातको को प्रबंधन के मुद्दों की विस्तृत एवं गहन समझ और उन्हें वरिष्ठ प्रबंधन भूमिकाओं के लिए तैयार करने के लिए डिज़ाइन किया गया है।', 'यह अमेरिकी, यूरोपीय, ऑस्ट्रेलियाई, भारतीय और श्रीलंकाई (पोस्ट ग्रेजुएट इंस्टीट्यूट ऑफ मेडिसिन- कोलंबो विश्वविद्यालय) विश्वविद्यालयों के द्वारा प्रदान किया जाता हैं।', 'यह डिग्री प्रोग्राम पारंपरिक रूप से स्वास्थ्य प्रशासन के स्थानीय, राज्य और संघीय स्तर पर एवं साथ ही गैर-लाभकारी क्षेत्र पर केंद्रित होता है।', 'एमएचए कार्यक्रमों का उद्देश्य छात्रों को स्वास्थ्य सेवाओं और सिस्टम क्षेत्रों में वरिष्ठ प्रबंधकीय और नियोजन कार्य के लिए जरूरी ज्ञान प्रदान करना है।', 'कार्यक्रम के उद्देश्य उन स्नातकों को विकसित करना है जो सक्षम सामान्य और वित्तीय प्रबंधकों, सक्षम योजनाकारों, सार्वजनिक स्वास्थ्य के बारे में जानकार और स्वास्थ्य देखभाल प्रणालियों के वित्तपोषण, समाज, कानून और नैतिकता के बारे में जानकार हो।', 'इस पाठ्यक्रम के लिए अधिकांश देशों में, आवेदकों को न्यूनतम चार वर्ष की स्नातक से नीचे की डिग्री की आवश्यकता होती है एवं उन्हें स्वास्थ्य प्रणाली में न्यूनतम पेशेवर अनुभव वांछनीय है।', 'यदयपि विभिन्न विश्वविद्यालयों के अपने मापदंड होते है।', 'यद्यपि संयुक्त राज्य में वाणिज्य, सार्वजनिक स्वास्थ्य एवं स्वास्थ्य विज्ञान के कई कॉलेजों में स्वास्थ्य प्रशासन की डिग्री होती हैं, लेकिन उनमे से ही केवल कुछ को ही “कमीशन ओन द अक्रेदिसन ऑफ़ हेल्थकेयर मैनेजमेंट एजुकेशन” (सीएएचएमई) के द्वारा मान्यता दी जाती है।', 'इन मान्यता प्राप्त कार्यक्रमों में आवेदन करने के लिए आवेदकों को चार साल की पूर्वस्नातक की डिग्री होनी चाहिये।', 'कुछ विश्वविद्यालय एएसीएसबी मान्यता, या एमबीए / एचओएम डिग्री कार्यक्रमों के साथ दोहरी एमबीए / एमएचए की डिग्री प्रदान करते हैं, जो कि समवर्ती या क्रमिक रूप से पूरा हो सकते हैं।', 'कुछ एमएचए कार्यक्रमों को नामांकन से पहले पेशेवर अनुभव की आवश्यकता नहीं होती है लेकिन अधिकांश ऐसे पाठ्यक्रमों में कार्य अनुभव की आवश्यकता होती हैं जिसमें इंटर्नशिप या फेलोशिप शामिल हैं।', 'संयुक्त राज्य में हेल्थकेयर एडमिनिस्ट्रेशन स्नातक कार्यक्रम अधिकांशत: सार्वजनिक स्वास्थ्य, व्यवसाय, संबद्ध स्वास्थ्य के विद्यालयों द्वारा संचालित किये जाते हैं एवं आषधियों पाठ्शालाओं के द्वारा काफी कम संचालित किये जाते हैं।', 'ऑस्ट्रेलिया में मास्टर ऑफ़ हेल्थ एडमिनिस्ट्रेशन दो भागों में विभाजित किया जा सकता है जिसमें पहला भाग स्वास्थ्य सेवा प्रबंधन में स्नातक डिप्लोमा और इसी के परिणाम के आधार पर इन डिग्रीधारीयों को कोर्स के दुसरे भाग में जारी रखने की अनुमति दी जाती है जो मास्टर ऑफ हैल्थकेयर एडमिनिस्ट्रेशन की डिग्री में परिणत हो जाती है।', 'भारत में भी मास्टर ऑफ़ हेल्थ एडमिनिस्ट्रेशन पाठ्यक्रम कई विश्वविद्यालयों एवं अस्पतालों द्वारा आयोजित किया जाता हैं।', 'कॉर्पोरेट संस्कृति एवं अत्याधुनिक अस्पतालों के आगमन के चलते भारत मे भी इन पाठ्यक्रमों की जरुरत बढती जा रही हैं।', 'भारत में यह २ वर्षीय पाठ्यक्रम ४ समेस्टर (6 महीने का एक समेस्टर) में बिभाजित होता हैं।']\n"
          ],
          "name": "stdout"
        },
        {
          "output_type": "display_data",
          "data": {
            "text/markdown": "###No of word tokens after word tokenization are: 8640033",
            "text/plain": [
              "<IPython.core.display.Markdown object>"
            ]
          },
          "metadata": {
            "tags": []
          }
        },
        {
          "output_type": "display_data",
          "data": {
            "text/markdown": "###Example tokens formed are:",
            "text/plain": [
              "<IPython.core.display.Markdown object>"
            ]
          },
          "metadata": {
            "tags": []
          }
        },
        {
          "output_type": "stream",
          "text": [
            "['मास्टर', 'ऑफ़', 'हेल्थ', 'एडमिनिस्ट्रेशन', 'या', 'मास्टर', 'ऑफ', 'हेल्थकेयर', 'एडमिनिस्ट्रेशन', '(', 'एमएचए', 'या', 'एम', '.', 'एच', '.', 'ए', ')', 'स्नातकोत्तर', '(']\n"
          ],
          "name": "stdout"
        },
        {
          "output_type": "display_data",
          "data": {
            "text/markdown": "##Analysis of Hindi corpus(1/4th of the corpus used) using Spacy library",
            "text/plain": [
              "<IPython.core.display.Markdown object>"
            ]
          },
          "metadata": {
            "tags": []
          }
        },
        {
          "output_type": "display_data",
          "data": {
            "text/markdown": "###No of sentences after sentence segmentation are: 88613",
            "text/plain": [
              "<IPython.core.display.Markdown object>"
            ]
          },
          "metadata": {
            "tags": []
          }
        },
        {
          "output_type": "display_data",
          "data": {
            "text/markdown": "###Example sentences formed are:",
            "text/plain": [
              "<IPython.core.display.Markdown object>"
            ]
          },
          "metadata": {
            "tags": []
          }
        },
        {
          "output_type": "stream",
          "text": [
            "[मास्टर ऑफ़ हेल्थ एडमिनिस्ट्रेशन या मास्टर ऑफ हेल्थकेयर एडमिनिस्ट्रेशन (एमएचए या एम., एच., ए) स्नातकोत्तर (पोस्ट ग्रेजुएशन) की एक पेशेवर डिग्री है जो स्वास्थ्य प्रशासन के क्षेत्र में दी जाती हैं।, यह उन छात्रों को प्रदान की जाती हैं जिन्होंने स्वास्थ्य प्रशासन, अस्पताल प्रबंधन एवं अन्य स्वास्थ्य सेवा संगठनों के क्षेत्र में जरूरी ज्ञान और दक्षता हासिल की हैं।, इन पाठ्यक्रमो में परिस्थितियों के अनुसार इनके सरंचना में अंतर हो सकता हैं हालांकि व्यवसायी-शिक्षक मॉडल कार्यक्रम आमतौर पर चिकित्सा, स्वास्थ्य व्यवसायों या संबद्ध स्वास्थ्य के कॉलेजों में पाए जाते हैं, कक्षा-आधारित कार्यक्रम व्यवसाय या सार्वजनिक स्वास्थ्य के कॉलेजों में होते हैं।, \n",
            "\n",
            "इस पाठ्यक्रम के अध्ययन के दौरान आम तौर पर विद्यार्थियों को जनसंख्या स्वास्थ्य, स्वास्थ्य देखभाल अर्थशास्त्र, स्वास्थ्य नीति, संगठनात्मक व्यवहार, स्वास्थ्य से जुड़े संगठनों के प्रबंधन, स्वास्थ्य विपणन और संचार, मानव संसाधन प्रबंधन, सूचना प्रणाली प्रबंधन के अध्ययन एवं अन्य क्षेत्रों में व्यावहारिक अनुभव की भी आवश्यकता होती है।, यह डिग्री प्रोग्राम स्वास्थ्य विषय के स्नातको को प्रबंधन के मुद्दों की विस्तृत एवं गहन समझ और उन्हें वरिष्ठ प्रबंधन भूमिकाओं के लिए तैयार करने के लिए डिज़ाइन किया गया है।, यह अमेरिकी, यूरोपीय, ऑस्ट्रेलियाई, भारतीय और श्रीलंकाई (पोस्ट ग्रेजुएट इंस्टीट्यूट ऑफ मेडिसिन- कोलंबो विश्वविद्यालय) विश्वविद्यालयों के द्वारा प्रदान किया जाता हैं।, यह डिग्री प्रोग्राम पारंपरिक रूप से स्वास्थ्य प्रशासन के स्थानीय, राज्य और संघीय स्तर पर एवं साथ ही गैर-लाभकारी क्षेत्र पर केंद्रित होता है।, \n",
            "\n",
            "एमएचए कार्यक्रमों का उद्देश्य छात्रों को स्वास्थ्य सेवाओं और सिस्टम क्षेत्रों में वरिष्ठ प्रबंधकीय और नियोजन कार्य के लिए जरूरी ज्ञान प्रदान करना है।, कार्यक्रम के उद्देश्य उन स्नातकों को विकसित करना है जो सक्षम सामान्य और वित्तीय प्रबंधकों, सक्षम योजनाकारों, सार्वजनिक स्वास्थ्य के बारे में जानकार और स्वास्थ्य देखभाल प्रणालियों के वित्तपोषण, समाज, कानून और नैतिकता के बारे में जानकार हो।, \n",
            "\n",
            "इस पाठ्यक्रम के लिए अधिकांश देशों में, आवेदकों को न्यूनतम चार वर्ष की स्नातक से नीचे की डिग्री की आवश्यकता होती है एवं उन्हें स्वास्थ्य प्रणाली में न्यूनतम पेशेवर अनुभव वांछनीय है।, यदयपि विभिन्न विश्वविद्यालयों के अपने मापदंड होते है।, \n",
            "\n",
            "यद्यपि संयुक्त राज्य में वाणिज्य, सार्वजनिक स्वास्थ्य एवं स्वास्थ्य विज्ञान के कई कॉलेजों में स्वास्थ्य प्रशासन की डिग्री होती हैं, लेकिन उनमे से ही केवल कुछ को ही “कमीशन ओन द अक्रेदिसन ऑफ़ हेल्थकेयर मैनेजमेंट एजुकेशन” (सीएएचएमई) के द्वारा मान्यता दी जाती है।, \n",
            "\n",
            "इन मान्यता प्राप्त कार्यक्रमों में आवेदन करने के लिए आवेदकों को चार साल की पूर्वस्नातक की डिग्री होनी चाहिये।, कुछ विश्वविद्यालय एएसीएसबी मान्यता, या एमबीए / एचओएम डिग्री कार्यक्रमों के साथ दोहरी एमबीए / एमएचए की डिग्री प्रदान करते हैं, जो कि समवर्ती या क्रमिक रूप से पूरा हो सकते हैं।, कुछ एमएचए कार्यक्रमों को नामांकन से पहले पेशेवर अनुभव की आवश्यकता नहीं होती है लेकिन अधिकांश ऐसे पाठ्यक्रमों में कार्य अनुभव की आवश्यकता होती हैं जिसमें इंटर्नशिप या फेलोशिप शामिल हैं।, \n",
            "\n",
            "संयुक्त राज्य में हेल्थकेयर एडमिनिस्ट्रेशन स्नातक कार्यक्रम अधिकांशत: सार्वजनिक स्वास्थ्य, व्यवसाय, संबद्ध स्वास्थ्य के विद्यालयों द्वारा संचालित किये जाते हैं एवं आषधियों पाठ्शालाओं के द्वारा काफी कम संचालित किये जाते हैं।, \n",
            "\n",
            "ऑस्ट्रेलिया में मास्टर ऑफ़ हेल्थ एडमिनिस्ट्रेशन दो भागों में विभाजित किया जा सकता है जिसमें पहला भाग स्वास्थ्य सेवा प्रबंधन में स्नातक डिप्लोमा और इसी के परिणाम के आधार पर इन डिग्रीधारीयों को कोर्स के दुसरे भाग में जारी रखने की अनुमति दी जाती है जो मास्टर ऑफ हैल्थकेयर एडमिनिस्ट्रेशन की डिग्री में परिणत हो जाती है।, \n",
            "\n",
            "भारत में भी मास्टर ऑफ़ हेल्थ एडमिनिस्ट्रेशन पाठ्यक्रम कई विश्वविद्यालयों एवं अस्पतालों द्वारा आयोजित किया जाता हैं।]\n"
          ],
          "name": "stdout"
        },
        {
          "output_type": "display_data",
          "data": {
            "text/markdown": "###No of word tokens after word tokenization are: 2181076",
            "text/plain": [
              "<IPython.core.display.Markdown object>"
            ]
          },
          "metadata": {
            "tags": []
          }
        },
        {
          "output_type": "display_data",
          "data": {
            "text/markdown": "###Example tokens formed are:",
            "text/plain": [
              "<IPython.core.display.Markdown object>"
            ]
          },
          "metadata": {
            "tags": []
          }
        },
        {
          "output_type": "stream",
          "text": [
            "[मास्टर, ऑफ़, हेल्थ, एडमिनिस्ट्रेशन, या, मास्टर, ऑफ, हेल्थकेयर, एडमिनिस्ट्रेशन, (, एमएचए, या, एम, ., एच, ., ए, ), स्नातकोत्तर, (]\n"
          ],
          "name": "stdout"
        }
      ]
    },
    {
      "cell_type": "markdown",
      "metadata": {
        "id": "ivZxq51aA9ar"
      },
      "source": [
        "**N-GRAMS ANALYSIS**"
      ]
    },
    {
      "cell_type": "code",
      "metadata": {
        "id": "AHdj_kuok8hX"
      },
      "source": [
        "from nltk.util import ngrams\n",
        "from collections import Counter\n",
        "from operator import itemgetter\n",
        "from collections import OrderedDict\n",
        "import matplotlib.pyplot as plt"
      ],
      "execution_count": null,
      "outputs": []
    },
    {
      "cell_type": "code",
      "metadata": {
        "id": "1QoGjrtXYcWL"
      },
      "source": [
        "# Helper functions to for n-grams analysis\n",
        "\n",
        "# returns a list of ngrams\n",
        "def extract_ngrams(tokens, num):\n",
        "    n_grams = ngrams(tokens, num)\n",
        "    return [ ' '.join(grams) for grams in n_grams]\n",
        "\n",
        "# returns a dict of ngrams\n",
        "def get_frequency(tokens,num):\n",
        "  n_grams = extract_ngrams(tokens,num)\n",
        "  freq={}\n",
        "  for i in n_grams:\n",
        "    freq[i]=freq.get(i,0) + 1\n",
        "  return freq"
      ],
      "execution_count": null,
      "outputs": []
    },
    {
      "cell_type": "code",
      "metadata": {
        "id": "5-pJve3JYXz9",
        "outputId": "a847e406-060d-4014-9a47-ed881bfe9778",
        "colab": {
          "base_uri": "https://localhost:8080/",
          "height": 1000
        }
      },
      "source": [
        "# # Generating ngrams for English corpus\n",
        "unigrams_en = ngrams(tokens_en,1)\n",
        "bigrams_en = ngrams(tokens_en,2)\n",
        "trigrams_en = ngrams(tokens_en,3)\n",
        "freq_unigrams_en = get_frequency(tokens_en,1)\n",
        "freq_bigrams_en = get_frequency(tokens_en,2)\n",
        "freq_trigrams_en = get_frequency(tokens_en,3)\n",
        "\n",
        "# # Generating ngrams for Hindi corpus\n",
        "unigrams_hi = ngrams(tokens_hi,1)\n",
        "bigrams_hi = ngrams(tokens_hi,2)\n",
        "trigrams_hi = ngrams(tokens_hi,3)\n",
        "freq_unigrams_hi = get_frequency(tokens_hi,1)\n",
        "freq_bigrams_hi = get_frequency(tokens_hi,2)\n",
        "freq_trigrams_hi = get_frequency(tokens_hi,3)\n",
        "\n",
        "\n",
        "\n",
        "display(Markdown(\"####Number of unigrams in English Corpus: {}\".format(len(freq_unigrams_en))))\n",
        "display(Markdown(\"####Number of unigrams in Hindi Corpus: {}\".format(len(freq_unigrams_hi))))\n",
        "display(Markdown(\"####Number of bigrams in English Corpus: {}\".format(len(freq_bigrams_en))))\n",
        "display(Markdown(\"####Number of bigrams in Hindi Corpus: {}\".format(len(freq_bigrams_hi))))\n",
        "display(Markdown(\"####Number of trigrams in English Corpus: {}\".format(len(freq_trigrams_en))))\n",
        "display(Markdown(\"####Number of trigrams in Hindi Corpus: {}\".format(len(freq_trigrams_hi))))\n",
        "\n",
        "# Plotting only 100 values of n-grams for better visualization\n",
        "\n",
        "# Plotting unigrams\n",
        "display(Markdown(\"###Frequency distribution of English unigrams\"))\n",
        "freq_dist_uni_en = nltk.FreqDist(unigrams_en)\n",
        "sorted(freq_dist_uni_en.items(), key=lambda x: x[1], reverse=True)\n",
        "plt.figure(figsize=(20,5))\n",
        "freq_dist_uni_en.plot(100)\n",
        "\n",
        "display(Markdown(\"###Frequency distribution of Hindi unigrams\"))\n",
        "freq_dist_uni_hi = nltk.FreqDist(unigrams_hi)\n",
        "sorted(freq_dist_uni_hi.items(), key=lambda x: x[1], reverse=True)\n",
        "plt.figure(figsize=(20,5))\n",
        "freq_dist_uni_hi.plot(100)\n",
        "\n",
        "# Plotting bigrams\n",
        "display(Markdown(\"###Frequency distribution of English bigrams\"))\n",
        "freq_dist_bi_en = nltk.FreqDist(bigrams_en)\n",
        "sorted(freq_dist_bi_en.items(), key=lambda x: x[1], reverse=True)\n",
        "plt.figure(figsize=(20,5))\n",
        "freq_dist_bi_en.plot(100)\n",
        "\n",
        "display(Markdown(\"###Frequency distribution of Hindi bigrams\"))\n",
        "freq_dist_bi_hi = nltk.FreqDist(bigrams_hi)\n",
        "sorted(freq_dist_bi_hi.items(), key=lambda x: x[1], reverse=True)\n",
        "plt.figure(figsize=(20,5))\n",
        "freq_dist_bi_hi.plot(100)\n",
        "\n",
        "# Plotting trigrams\n",
        "display(Markdown(\"###Frequency distribution of English trigrams\"))\n",
        "freq_dist_tri_en = nltk.FreqDist(trigrams_en)\n",
        "sorted(freq_dist_tri_en.items(), key=lambda x: x[1], reverse=True)\n",
        "plt.figure(figsize=(20,5))\n",
        "freq_dist_tri_en.plot(100)\n",
        "\n",
        "display(Markdown(\"###Frequency distribution of Hindi trigrams\"))\n",
        "freq_dist_tri_hi = nltk.FreqDist(trigrams_hi)\n",
        "sorted(freq_dist_tri_hi.items(), key=lambda x: x[1], reverse=True)\n",
        "plt.figure(figsize=(20,5))\n",
        "freq_dist_tri_hi.plot(100)"
      ],
      "execution_count": null,
      "outputs": [
        {
          "output_type": "display_data",
          "data": {
            "text/markdown": "####Number of unigrams in English Corpus: 395757",
            "text/plain": [
              "<IPython.core.display.Markdown object>"
            ]
          },
          "metadata": {
            "tags": []
          }
        },
        {
          "output_type": "display_data",
          "data": {
            "text/markdown": "####Number of unigrams in Hindi Corpus: 322350",
            "text/plain": [
              "<IPython.core.display.Markdown object>"
            ]
          },
          "metadata": {
            "tags": []
          }
        },
        {
          "output_type": "display_data",
          "data": {
            "text/markdown": "####Number of bigrams in English Corpus: 4095732",
            "text/plain": [
              "<IPython.core.display.Markdown object>"
            ]
          },
          "metadata": {
            "tags": []
          }
        },
        {
          "output_type": "display_data",
          "data": {
            "text/markdown": "####Number of bigrams in Hindi Corpus: 2392979",
            "text/plain": [
              "<IPython.core.display.Markdown object>"
            ]
          },
          "metadata": {
            "tags": []
          }
        },
        {
          "output_type": "display_data",
          "data": {
            "text/markdown": "####Number of trigrams in English Corpus: 10827502",
            "text/plain": [
              "<IPython.core.display.Markdown object>"
            ]
          },
          "metadata": {
            "tags": []
          }
        },
        {
          "output_type": "display_data",
          "data": {
            "text/markdown": "####Number of trigrams in Hindi Corpus: 5508737",
            "text/plain": [
              "<IPython.core.display.Markdown object>"
            ]
          },
          "metadata": {
            "tags": []
          }
        },
        {
          "output_type": "display_data",
          "data": {
            "text/markdown": "###Frequency distribution of English unigrams",
            "text/plain": [
              "<IPython.core.display.Markdown object>"
            ]
          },
          "metadata": {
            "tags": []
          }
        },
        {
          "output_type": "display_data",
          "data": {
            "image/png": "[encoded data removed]",
            "text/plain": [
              "<Figure size 1440x360 with 1 Axes>"
            ]
          },
          "metadata": {
            "tags": [],
            "needs_background": "light"
          }
        },
        {
          "output_type": "display_data",
          "data": {
            "text/markdown": "###Frequency distribution of Hindi unigrams",
            "text/plain": [
              "<IPython.core.display.Markdown object>"
            ]
          },
          "metadata": {
            "tags": []
          }
        },
        {
          "output_type": "display_data",
          "data": {
            "image/png": "[encoded data removed]",
            "text/plain": [
              "<Figure size 1440x360 with 1 Axes>"
            ]
          },
          "metadata": {
            "tags": [],
            "needs_background": "light"
          }
        },
        {
          "output_type": "display_data",
          "data": {
            "text/markdown": "###Frequency distribution of English bigrams",
            "text/plain": [
              "<IPython.core.display.Markdown object>"
            ]
          },
          "metadata": {
            "tags": []
          }
        },
        {
          "output_type": "display_data",
          "data": {
            "image/png": "[encoded data removed]",
            "text/plain": [
              "<Figure size 1440x360 with 1 Axes>"
            ]
          },
          "metadata": {
            "tags": [],
            "needs_background": "light"
          }
        },
        {
          "output_type": "display_data",
          "data": {
            "text/markdown": "###Frequency distribution of Hindi bigrams",
            "text/plain": [
              "<IPython.core.display.Markdown object>"
            ]
          },
          "metadata": {
            "tags": []
          }
        },
        {
          "output_type": "display_data",
          "data": {
            "image/png": "[encoded data removed]",
            "text/plain": [
              "<Figure size 1440x360 with 1 Axes>"
            ]
          },
          "metadata": {
            "tags": [],
            "needs_background": "light"
          }
        },
        {
          "output_type": "display_data",
          "data": {
            "text/markdown": "###Frequency distribution of English trigrams",
            "text/plain": [
              "<IPython.core.display.Markdown object>"
            ]
          },
          "metadata": {
            "tags": []
          }
        },
        {
          "output_type": "display_data",
          "data": {
            "image/png": "[encoded data removed]",
            "text/plain": [
              "<Figure size 1440x360 with 1 Axes>"
            ]
          },
          "metadata": {
            "tags": [],
            "needs_background": "light"
          }
        },
        {
          "output_type": "display_data",
          "data": {
            "text/markdown": "###Frequency distribution of Hindi trigrams",
            "text/plain": [
              "<IPython.core.display.Markdown object>"
            ]
          },
          "metadata": {
            "tags": []
          }
        },
        {
          "output_type": "display_data",
          "data": {
            "image/png": "[encoded data removed]",
            "text/plain": [
              "<Figure size 1440x360 with 1 Axes>"
            ]
          },
          "metadata": {
            "tags": [],
            "needs_background": "light"
          }
        }
      ]
    },
    {
      "cell_type": "code",
      "metadata": {
        "id": "Zl3LjDRbNVds",
        "outputId": "eb5c8be3-5f0e-46bc-e6db-b1892cdd780e",
        "colab": {
          "base_uri": "https://localhost:8080/",
          "height": 266
        }
      },
      "source": [
        "x = freq_unigrams_en\n",
        "y = freq_unigrams_hi\n",
        "\n",
        "# making a separate dictionary of most frequent and least frequent 100 words in corpora\n",
        "sorted_en = OrderedDict(sorted(x.items(), key=itemgetter(1)))\n",
        "sorted_hi = OrderedDict(sorted(y.items(), key=itemgetter(1)))\n",
        "\n",
        "least_freq_en_100 = [k for k in list(sorted_en)[:100]]\n",
        "least_freq_hi_100 = [k for k in list(sorted_hi)[:100]]\n",
        "\n",
        "most_freq_en_100 = [k for k in list(sorted_en)[-100:]]\n",
        "most_freq_hi_100 = [k for k in list(sorted_hi)[-100:]]\n",
        "\n",
        "display(Markdown(\"###Most frequent unigrams in English text are:\"))\n",
        "print(most_freq_en_100)\n",
        "display(Markdown(\"###Least frequent unigrams in English text are:\"))\n",
        "print(least_freq_en_100)\n",
        "display(Markdown(\"###Most frequent unigrams in Hindi text are:\"))\n",
        "print(most_freq_hi_100)\n",
        "display(Markdown(\"###Least frequent unigrams in Hindi text are:\"))\n",
        "print(least_freq_hi_100)\n",
        "\n",
        "del sorted_en\n",
        "del sorted_hi\n",
        "del x\n",
        "del y"
      ],
      "execution_count": null,
      "outputs": [
        {
          "output_type": "display_data",
          "data": {
            "text/markdown": "###Most frequent unigrams in English text are:",
            "text/plain": [
              "<IPython.core.display.Markdown object>"
            ]
          },
          "metadata": {
            "tags": []
          }
        },
        {
          "output_type": "stream",
          "text": [
            "['American', 'For', 'new', 'including', 'them', 'average', 'many', 'income', 'median', 'between', 'no', 'up', 'United', 'living', 'some', 'There', 'than', \"'\", 'made', 'people', 'only', 'when', 'her', 'This', 'most', 'out', 'A', 'would', 'time', 'after', 'used', 'can', 'into', 'such', '18', 'He', 'over', 'they', 'It', 'under', '$', 'population', 'there', 'all', 'more', 'city', 'two', 'other', 'been', 'years', 'one', 'this', 'its', 'first', 'but', ':', 'their', ';', 'age', 'who', 'have', 'also', 'not', 'has', 'he', 'be', 'it', 'had', 'which', 'an', 'are', 'In', 'at', 'his', 'or', 'from', 'on', '%', 'were', \"'s\", 'that', 'by', 'with', 'for', 'as', '(', ')', 'is', 'The', 'was', '``', \"''\", 'a', 'to', 'in', 'and', 'of', '.', ',', 'the']\n"
          ],
          "name": "stdout"
        },
        {
          "output_type": "display_data",
          "data": {
            "text/markdown": "###Least frequent unigrams in English text are:",
            "text/plain": [
              "<IPython.core.display.Markdown object>"
            ]
          },
          "metadata": {
            "tags": []
          }
        },
        {
          "output_type": "stream",
          "text": [
            "['100g', '13.5g', '27g', 'units—in', 'corpuscle', 'radiochemist', 'transuranium', 'alpha-particle', 'dimensions—on', 'range-properties', 'short-ranged', 'proton–neutron', 'repulsion—the', 'barrier—and', 'nuclei—usually', 'mc', 'non-recoverable', 'nickel—a', '60—is', 'energy-releasing', 'wave—a', 'electron—the', 'energy—is', 'ground-state', '118-proton', 'ununoctium', 'hydrogen-2', 'vanadium-50', 'lanthanum-138', 'tantalum-180m', 'even–even', 'dalton', 'Hydrogen-1', '1.007825', '0.012', 'group-theoretical', 'Aspherical', 'crystal-electrical', 'low-symmetry', 'pyrite-type', 'minuteness', 'conversion—', 'period—the', 'half-life—that', 'spin-½', 'atom—its', 'moment—is', 'Paramagnetic', 'xenon-129', 'direction—a', 'hyperpolarization', 'particle-like', 'spin–orbit', 'uncombined', 'valences', 'electron-sharing', 'super-cooled', 'tunneling-current', 'scanning-tunneling-microscope', 'space-averaged', 'area-selective', 'atom-probe', 'tomograph', 'sub-nanometer', 'Ubiquitousness', 'plasma—a', 'Bang—an', 'elements—those', '92—only', 'Transuranic', 'antielectron', 'arabilis', 'pasturable', 'sheep-rearing', 'FAOSTAT', 'multiple-cropped', 'cultivable.', 'rotation.', 'orchardland', 'unforested', 'Seawater', 'desalinates', 'silvery-white', 'fcc', 'stacking-fault', 'mJ/m', 'milliteslas', 'aluminates—', '200–400', '3,000–10,000', '700–3000', '7.2×10', 'Cosmogenic', 'Meteoroid', 'mass-fraction', 'Feldspars', 'aluminosilicates', 'fugacity', 'tetrahydroxoaluminate', 'beryl']\n"
          ],
          "name": "stdout"
        },
        {
          "output_type": "display_data",
          "data": {
            "text/markdown": "###Most frequent unigrams in Hindi text are:",
            "text/plain": [
              "<IPython.core.display.Markdown object>"
            ]
          },
          "metadata": {
            "tags": []
          }
        },
        {
          "output_type": "stream",
          "text": [
            "['रहे', 'रहा', 'इन', 'उसके', 'तरह', 'प्राप्त', 'कम', 'उन्हें', 'क्षेत्र', 'शामिल', 'हुई', 'जाती', 'बहुत', 'गई', '[', 'होते', 'जैसे', ']', 'दो', 'लेकिन', 'किसी', 'जब', 'कहा', 'प्रकार', 'सबसे', 'पहले', 'गए', 'अपनी', 'वाले', 'अन्य', 'भारत', 'होने', 'कारण', 'कई', 'होती', 'करता', 'उनके', 'इसके', 'एवं', 'सकता', 'नाम', 'उन्होंने', 'अधिक', 'जा', 'समय', 'हुए', 'तो', 'वे', 'करते', 'हुआ', 'कुछ', 'वह', 'थी', 'होता', ':', 'दिया', 'तक', 'बाद', 'अपने', 'तथा', 'थे', \"'\", 'या', 'द्वारा', 'नहीं', 'हो', 'कर', 'साथ', 'करने', 'जो', 'ही', 'जाता', 'रूप', 'इस', 'यह', 'गया', 'कि', 'था', '.', 'भी', 'लिए', 'किया', 'ने', 'पर', '(', ')', '-', 'एक', '\"', 'हैं', 'को', 'का', 'से', 'और', 'की', 'है', ',', 'में', '।', 'के']\n"
          ],
          "name": "stdout"
        },
        {
          "output_type": "display_data",
          "data": {
            "text/markdown": "###Least frequent unigrams in Hindi text are:",
            "text/plain": [
              "<IPython.core.display.Markdown object>"
            ]
          },
          "metadata": {
            "tags": []
          }
        },
        {
          "output_type": "stream",
          "text": [
            "['\\n\\nएमएचए', '“कमीशन', 'अक्रेदिसन', 'एजुकेशन”', 'सीएएचएमई', 'एचओएम', 'आषधियों', 'पाठ्शालाओं', 'डिग्रीधारीयों', 'हैल्थकेयर', 'सीखाया', 'बीवीएससी', 'बीएचए', '\\nअसादुदीन', '\\nअसदुद्दीन', 'नजमुनेस्सा', 'मुस्लिममेन', 'राज्वी', 'विज्जी', 'इटैमाद', 'फ़रहीन', 'uddin', 'शास्त्रीपुरम', 'मेलर्देवपल्ली', 'सांडोज़ाई', 'मातृक्षीय', 'जहिद', 'नाकीब', '\\nओवैसी', 'जकीउर', 'लखवी', 'तलेक', 'संगारेड्डी', 'मुगलपुरा', 'सलीमुद्दीन', 'पीटाने', 'बिदर', 'अब्दुहाह', 'काशीफ', 'एमएलसी', 'नारा\\nराष्ट्रीय', '\\n\\nउत्कृष्टता', 'लिए\\xa0राष्ट्रीय', 'सम्मान\\xa0की', 'निभीर्कता', 'बंधनकारी', 'उपलब्धा', 'कलानुशासन', '\\nवेदराशि', 'सूत्रसाहित्य', 'अनुक्रमणियों', 'अनुक्रमाणियाँ', 'मंडलांतानुक्रम', 'देवानुक्रम', 'विषयानुसंधान', 'अनुवाकों', 'सर्वानुक्रमणि', 'सर्वज्ञेयार्थ', 'वर्णनात्', 'सर्वानुक्रमणीशब्दं', 'निर्बुवंति', 'विपश्चित', 'वाष्कल', 'सर्वानुक्रमणियाँ', '\\n\\nसर्वानुक्रमणी', 'कालनिर्णय', 'प्रास्ताविक', 'तत्पूर्व', 'शौनकप्रणीत', 'वृत्तगंधी', 'शौनकीय', 'आर्षानुक्रमणी', 'स्वरूपतः', 'मैक्डोनल', 'अनुवाकानुक्रमणी', '\\n\\nकात्यायनप्रणीत', 'कात्यायनप्रणीत', 'सर्वानुक्रमसूत्र', 'याज्ञिकानंतदेव', '\\nप्रदत्त', 'सुपरिचय', 'Brfxxccxxmnpcccclllmmnprxvclmnckssqlbb11116', 'है—इथियोपिया', 'थे—हेली', 'बाइबिलीय', 'शोशाना', 'सूज़ाने', 'ज़ुज़ाना', '子', 'टीनो', 'पुल्लिंगवाचक', 'स्त्रीलिंगवाचक', 'हिलरी', 'लेज़्ली', 'Jo', 'कीरा', 'Keira', 'Kiera', '233वें', '99वें']\n"
          ],
          "name": "stdout"
        }
      ]
    },
    {
      "cell_type": "code",
      "metadata": {
        "id": "BQGBNUouOKff",
        "outputId": "b19c44b7-e932-4449-a71c-6bb737dc49c4",
        "colab": {
          "base_uri": "https://localhost:8080/",
          "height": 802
        }
      },
      "source": [
        "import numpy as np\n",
        "# Zipf's law fitting for English Text\n",
        "\n",
        "rank = [np.log(x) for x in range(1, len(freq_unigrams_en)+1)]\n",
        "freq = [np.log(value)for key, value in  sorted(freq_unigrams_en.items(), key=lambda x: x[1], reverse=True)]\n",
        "rank = np.array(rank)\n",
        "freq = np.array(freq)\n",
        "slope, intercept = np.polyfit(rank, freq, 1)\n",
        "display(Markdown(\"###Zipf's Law for English Text\"))\n",
        "display(Markdown(\"####Fitted straight line has slope = {} and y-intercept = {}\".format(slope, intercept)))\n",
        "plt.figure(figsize=(20,5))\n",
        "plt.plot(rank, freq, label='True Labels')\n",
        "plt.plot(rank, slope*rank+intercept, label='Fitted Line')\n",
        "plt.xlabel('Rank')\n",
        "plt.ylabel('Frequency')\n",
        "plt.legend()\n",
        "plt.show()\n",
        "\n",
        "rank = [np.log(x) for x in range(1, len(freq_unigrams_hi)+1)]\n",
        "freq = [np.log(value)for key, value in  sorted(freq_unigrams_hi.items(), key=lambda x: x[1], reverse=True)]\n",
        "rank = np.array(rank)\n",
        "freq = np.array(freq)\n",
        "slope, intercept = np.polyfit(rank, freq, 1)\n",
        "display(Markdown(\"###Zipf's Law for Hindi Text\"))\n",
        "display(Markdown(\"####Fitted straight line has slope = {} and y-intercept = {}\".format(slope, intercept)))\n",
        "plt.figure(figsize=(20,5))\n",
        "plt.plot(rank, freq, label='True Labels')\n",
        "plt.plot(rank, slope*rank+intercept, label='Fitted Line')\n",
        "plt.xlabel('Rank')\n",
        "plt.ylabel('Frequency')\n",
        "plt.legend()\n",
        "plt.show()"
      ],
      "execution_count": null,
      "outputs": [
        {
          "output_type": "display_data",
          "data": {
            "text/markdown": "###Zipf's Law for English Text",
            "text/plain": [
              "<IPython.core.display.Markdown object>"
            ]
          },
          "metadata": {
            "tags": []
          }
        },
        {
          "output_type": "display_data",
          "data": {
            "text/markdown": "####Fitted straight line has slope = -1.3942748169093626 and y-intercept = 17.502006319659177",
            "text/plain": [
              "<IPython.core.display.Markdown object>"
            ]
          },
          "metadata": {
            "tags": []
          }
        },
        {
          "output_type": "display_data",
          "data": {
            "image/png": "[encoded data removed]",
            "text/plain": [
              "<Figure size 1440x360 with 1 Axes>"
            ]
          },
          "metadata": {
            "tags": [],
            "needs_background": "light"
          }
        },
        {
          "output_type": "display_data",
          "data": {
            "text/markdown": "###Zipf's Law for Hindi Text",
            "text/plain": [
              "<IPython.core.display.Markdown object>"
            ]
          },
          "metadata": {
            "tags": []
          }
        },
        {
          "output_type": "display_data",
          "data": {
            "text/markdown": "####Fitted straight line has slope = -1.175844035172983 and y-intercept = 14.429847864942186",
            "text/plain": [
              "<IPython.core.display.Markdown object>"
            ]
          },
          "metadata": {
            "tags": []
          }
        },
        {
          "output_type": "display_data",
          "data": {
            "image/png": "[encoded data removed]",
            "text/plain": [
              "<Figure size 1440x360 with 1 Axes>"
            ]
          },
          "metadata": {
            "tags": [],
            "needs_background": "light"
          }
        }
      ]
    },
    {
      "cell_type": "code",
      "metadata": {
        "id": "x_of5rUoSdrZ"
      },
      "source": [
        "# freeing up space\n",
        "\n",
        "del unigrams_en\n",
        "del bigrams_en\n",
        "del trigrams_en\n",
        "del unigrams_hi\n",
        "del bigrams_hi\n",
        "del trigrams_hi\n",
        "del freq_dist_uni_en\n",
        "del freq_dist_bi_en\n",
        "del freq_dist_tri_en\n",
        "del freq_dist_uni_hi\n",
        "del freq_dist_bi_hi\n",
        "del freq_dist_tri_hi"
      ],
      "execution_count": null,
      "outputs": []
    },
    {
      "cell_type": "markdown",
      "metadata": {
        "id": "1fybfILWxItM"
      },
      "source": [
        "**SECTION 1.3.2**"
      ]
    },
    {
      "cell_type": "code",
      "metadata": {
        "id": "vve2_t7FUvvt"
      },
      "source": [
        "from nltk.stem import PorterStemmer "
      ],
      "execution_count": null,
      "outputs": []
    },
    {
      "cell_type": "code",
      "metadata": {
        "id": "pGapfl6yuA-Z"
      },
      "source": [
        "# Helper function to find number of n-grams required to cover frac*100 % of the corpus\n",
        "def num_freq_words(d,frac,type_ngram,textlen):\n",
        "  count=0\n",
        "  cur_len=0\n",
        "  sorted(d.items(), key=lambda x: x[1], reverse=True)\n",
        "  for val in d.values():\n",
        "    cur_len+=val*type_ngram\n",
        "    count+=1\n",
        "    if cur_len > frac*textlen:\n",
        "      break\n",
        "  return count\n",
        "\n",
        "# returns stemmed tokens\n",
        "ps = PorterStemmer()\n",
        "def stem_tokens(token_list):\n",
        "  for idx,token in enumerate(token_list):\n",
        "    token = ps.stem(token)\n",
        "    token_list[idx] = token\n",
        "  return token_list;"
      ],
      "execution_count": null,
      "outputs": []
    },
    {
      "cell_type": "code",
      "metadata": {
        "id": "FiRcf_pb14t4",
        "outputId": "7042e3b6-7d3a-4e93-e9b8-fc822abc6ddc",
        "colab": {
          "base_uri": "https://localhost:8080/",
          "height": 501
        }
      },
      "source": [
        "words_en = len(tokens_en)\n",
        "words_hi = len(tokens_hi)\n",
        "\n",
        "display(Markdown(\"###No of most frequent unigrams required to cover 90% of English Text is: {}\".format(str(num_freq_words(freq_unigrams_en,0.9,1,words_en)))))\n",
        "display(Markdown(\"###No of most frequent unigrams required to cover 90% of Hindi Text is: {}\".format(str(num_freq_words(freq_unigrams_hi,0.9,1,words_hi)))))\n",
        "display(Markdown(\"###No of most frequent bigrams required to cover 80% of English Text is: {}\".format(str(num_freq_words(freq_bigrams_en,0.8,2,words_en)))))\n",
        "display(Markdown(\"###No of most frequent bigrams required to cover 80% of Hindi Text is: {}\".format(str(num_freq_words(freq_bigrams_hi,0.8,2,words_hi)))))\n",
        "display(Markdown(\"###No of most frequent trigrams required to cover 70% of English Text is: {}\".format(str(num_freq_words(freq_trigrams_en,0.7,3,words_en)))))\n",
        "display(Markdown(\"###No of most frequent trigrams required to cover 70% of Hindi Text is: {}\".format(str(num_freq_words(freq_trigrams_hi,0.7,3,words_hi)))))\n",
        "\n",
        "# PERFORM PORTER STEMMING FOR ENGLISH CORPUS\n",
        "tokens_en = stem_tokens(tokens_en)\n",
        "\n",
        "# Performing stemming on each token in hindi corpus\n",
        "suffixes = {\n",
        "    1: [\"ो\", \"े\", \"ू\", \"ु\", \"ी\", \"ि\", \"ा\"],\n",
        "    2: [\"कर\", \"ाओ\", \"िए\", \"ाई\", \"ाए\", \"ने\", \"नी\", \"ना\", \"ते\", \"ीं\", \"ती\", \"ता\", \"ाँ\", \"ां\", \"ों\", \"ें\"],\n",
        "    3: [\"ाकर\", \"ाइए\", \"ाईं\", \"ाया\", \"ेगी\", \"ेगा\", \"ोगी\", \"ोगे\", \"ाने\", \"ाना\", \"ाते\", \"ाती\", \"ाता\", \"तीं\", \"ाओं\", \"ाएं\", \"ुओं\", \"ुएं\", \"ुआं\"],\n",
        "    4: [\"ाएगी\", \"ाएगा\", \"ाओगी\", \"ाओगे\", \"एंगी\", \"ेंगी\", \"एंगे\", \"ेंगे\", \"ूंगी\", \"ूंगा\", \"ातीं\", \"नाओं\", \"नाएं\", \"ताओं\", \"ताएं\", \"ियाँ\", \"ियों\", \"ियां\"],\n",
        "    5: [\"ाएंगी\", \"ाएंगे\", \"ाऊंगी\", \"ाऊंगा\", \"ाइयाँ\", \"ाइयों\", \"ाइयां\"],\n",
        "}\n",
        "\n",
        "def stemmer_hi(word):\n",
        "    for L in range(5, 0, -1):\n",
        "        if len(word) > L + 1:\n",
        "            for suf in suffixes[L]:\n",
        "                if word.endswith(suf):\n",
        "                    return word[:-L]\n",
        "    return word\n",
        "\n",
        "tokens_hi = [stemmer_hi(word) for word in tokens_hi]\n",
        "\n",
        "# freeing up RAM\n",
        "\n",
        "del freq_unigrams_en\n",
        "del freq_unigrams_hi\n",
        "del freq_bigrams_en\n",
        "del freq_bigrams_hi\n",
        "del freq_trigrams_en\n",
        "del freq_trigrams_hi\n",
        "\n",
        "freq_unigrams_en = get_frequency(tokens_en,1)\n",
        "freq_bigrams_en = get_frequency(tokens_en,2)\n",
        "freq_trigrams_en = get_frequency(tokens_en,3)\n",
        "\n",
        "freq_unigrams_hi = get_frequency(tokens_hi,1)\n",
        "freq_bigrams_hi = get_frequency(tokens_hi,2)\n",
        "freq_trigrams_hi = get_frequency(tokens_hi,3)\n",
        "\n",
        "words_en = len(tokens_en)\n",
        "words_hi = len(tokens_hi)\n",
        "\n",
        "display(Markdown(\"##After performing Stemming\"))\n",
        "\n",
        "display(Markdown(\"###No of most frequent unigrams required to cover 90% of English Text is: {}\".format(str(num_freq_words(freq_unigrams_en,0.9,1,words_en)))))\n",
        "display(Markdown(\"###No of most frequent unigrams required to cover 90% of Hindi Text is: {}\".format(str(num_freq_words(freq_unigrams_hi,0.9,1,words_hi)))))\n",
        "display(Markdown(\"###No of most frequent bigrams required to cover 80% of English Text is: {}\".format(str(num_freq_words(freq_bigrams_en,0.8,2,words_en)))))\n",
        "display(Markdown(\"###No of most frequent bigrams required to cover 80% of Hindi Text is: {}\".format(str(num_freq_words(freq_bigrams_hi,0.8,2,words_hi)))))\n",
        "display(Markdown(\"###No of most frequent trigrams required to cover 70% of English Text is: {}\".format(str(num_freq_words(freq_trigrams_en,0.7,3,words_en)))))\n",
        "display(Markdown(\"###No of most frequent trigrams required to cover 70% of Hindi Text is: {}\".format(str(num_freq_words(freq_trigrams_hi,0.7,3,words_hi)))))"
      ],
      "execution_count": null,
      "outputs": [
        {
          "output_type": "display_data",
          "data": {
            "text/markdown": "###No of most frequent unigrams required to cover 90% of English Text is: 33731",
            "text/plain": [
              "<IPython.core.display.Markdown object>"
            ]
          },
          "metadata": {
            "tags": []
          }
        },
        {
          "output_type": "display_data",
          "data": {
            "text/markdown": "###No of most frequent unigrams required to cover 90% of Hindi Text is: 30969",
            "text/plain": [
              "<IPython.core.display.Markdown object>"
            ]
          },
          "metadata": {
            "tags": []
          }
        },
        {
          "output_type": "display_data",
          "data": {
            "text/markdown": "###No of most frequent bigrams required to cover 80% of English Text is: 78356",
            "text/plain": [
              "<IPython.core.display.Markdown object>"
            ]
          },
          "metadata": {
            "tags": []
          }
        },
        {
          "output_type": "display_data",
          "data": {
            "text/markdown": "###No of most frequent bigrams required to cover 80% of Hindi Text is: 57677",
            "text/plain": [
              "<IPython.core.display.Markdown object>"
            ]
          },
          "metadata": {
            "tags": []
          }
        },
        {
          "output_type": "display_data",
          "data": {
            "text/markdown": "###No of most frequent trigrams required to cover 70% of English Text is: 436876",
            "text/plain": [
              "<IPython.core.display.Markdown object>"
            ]
          },
          "metadata": {
            "tags": []
          }
        },
        {
          "output_type": "display_data",
          "data": {
            "text/markdown": "###No of most frequent trigrams required to cover 70% of Hindi Text is: 327002",
            "text/plain": [
              "<IPython.core.display.Markdown object>"
            ]
          },
          "metadata": {
            "tags": []
          }
        },
        {
          "output_type": "display_data",
          "data": {
            "text/markdown": "##After performing Stemming",
            "text/plain": [
              "<IPython.core.display.Markdown object>"
            ]
          },
          "metadata": {
            "tags": []
          }
        },
        {
          "output_type": "display_data",
          "data": {
            "text/markdown": "###No of most frequent unigrams required to cover 90% of English Text is: 14063",
            "text/plain": [
              "<IPython.core.display.Markdown object>"
            ]
          },
          "metadata": {
            "tags": []
          }
        },
        {
          "output_type": "display_data",
          "data": {
            "text/markdown": "###No of most frequent unigrams required to cover 90% of Hindi Text is: 19298",
            "text/plain": [
              "<IPython.core.display.Markdown object>"
            ]
          },
          "metadata": {
            "tags": []
          }
        },
        {
          "output_type": "display_data",
          "data": {
            "text/markdown": "###No of most frequent bigrams required to cover 80% of English Text is: 48570",
            "text/plain": [
              "<IPython.core.display.Markdown object>"
            ]
          },
          "metadata": {
            "tags": []
          }
        },
        {
          "output_type": "display_data",
          "data": {
            "text/markdown": "###No of most frequent bigrams required to cover 80% of Hindi Text is: 36785",
            "text/plain": [
              "<IPython.core.display.Markdown object>"
            ]
          },
          "metadata": {
            "tags": []
          }
        },
        {
          "output_type": "display_data",
          "data": {
            "text/markdown": "###No of most frequent trigrams required to cover 70% of English Text is: 424256",
            "text/plain": [
              "<IPython.core.display.Markdown object>"
            ]
          },
          "metadata": {
            "tags": []
          }
        },
        {
          "output_type": "display_data",
          "data": {
            "text/markdown": "###No of most frequent trigrams required to cover 70% of Hindi Text is: 258215",
            "text/plain": [
              "<IPython.core.display.Markdown object>"
            ]
          },
          "metadata": {
            "tags": []
          }
        }
      ]
    },
    {
      "cell_type": "markdown",
      "metadata": {
        "id": "FGyyqppXzqGb"
      },
      "source": [
        "**SECTION 1.3.3**"
      ]
    },
    {
      "cell_type": "code",
      "metadata": {
        "id": "P9BN6h1MX04y",
        "outputId": "e66f98b4-7d7e-48f3-f624-13eefb30a1ed",
        "colab": {
          "base_uri": "https://localhost:8080/",
          "height": 340
        }
      },
      "source": [
        "# Implementing hueristics dicussed in lecture slides for ENGLISH TEXT\n",
        "\n",
        "display(Markdown(\"##HEURISTICS ON ENGLISH TEXT\"))\n",
        "\n",
        "# SENTENCE SEGMENTATION USING HEURISTICS\n",
        "known_abbr = [\"mr\", \"mrs\", \"ms\", \"dr\", \"jr\", \"etc\", \"prof\", \"eg\", \"vs\", \"fig\", \"phd\"]\n",
        "\n",
        "sent_HueTokens_en = []\n",
        "curr_read_tokens = []\n",
        "\n",
        "for index,word in enumerate(en_FileContent.split()):\n",
        "  curr_read_tokens.append(word)\n",
        "\n",
        "  # HEURISTIC 1: Check if before the period we have a known abbreviation. If yes, then don't split  \n",
        "  if (word[-1:] == '.'):\n",
        "    if (word[:-1].lower() in known_abbr):\n",
        "      continue\n",
        "    sent_HueTokens_en.append(' '.join(curr_read_tokens))\n",
        "    curr_read_tokens = []\n",
        "\n",
        "  # HEURISTIC 2: Check If a lowercase letter follows a ? or !. If yes, we do not split sentences on that ? or !\n",
        "  if (word[-1:] == '?' or word[-1:] == '!'):\n",
        "      if (en_FileContent[index+1][0].isupper()):\n",
        "        sent_HueTokens_en.append(' '.join(curr_read_tokens))\n",
        "        curr_read_tokens = []\n",
        "  \n",
        "  # HEURISTIC 3: Check If a ending quote follows a ? or !. If yes, we do not split sentences on that ? or !\n",
        "  if len(word) > 1 and (word[-2:-1] == '?' or word[-2:-1] == '!' or word[-2:-1] == '.'):\n",
        "      if (word[-1:] == '\"'):\n",
        "        continue\n",
        "      sent_HueTokens_en.append(' '.join(curr_read_tokens))\n",
        "      curr_read_tokens = []\n",
        "\n",
        "display(Markdown(\"###Number of sentences before applying heuristics is {}\".format(len(sent_tokens_en))))\n",
        "display(Markdown(\"###Number of sentences after applying heuristics is {}\".format(len(sent_HueTokens_en))))\n",
        "\n",
        "display(Markdown(\"###New sentence tokens are:\"))\n",
        "print(sent_HueTokens_en[:20])\n",
        "\n",
        "# WORD TOKENIZATION USING HEURISTICS\n",
        "\n",
        "HueTokens_en = []\n",
        "\n",
        "# HEURISTIC 1: Check if a there is one of '.', '?', '!', ',', ';', ':'. If yes, we drop them if they are not preceded by a known abbreviation\n",
        "for sent in sent_HueTokens_en:\n",
        "  for word in sent.split():\n",
        "    if word[-1:] == '.':\n",
        "      if word[:-1].lower() in known_abbr:\n",
        "        HueTokens_en.append(word)\n",
        "      else:\n",
        "        HueTokens_en.append(word[:-1])\n",
        "        HueTokens_en.append(word[-1:])\n",
        "    elif (word[-1:] == '?' or word[-1:] == '!' or word[-1:] == ',' or word[-1:] == ';' or word[-1:] == ':'):\n",
        "      HueTokens_en.append(word[:-1])\n",
        "      HueTokens_en.append(word[-1:])\n",
        "    else:\n",
        "      HueTokens_en.append(word)\n",
        "\n",
        "display(Markdown(\"###Number of word tokens before applying heuristics is {}\".format(len(tokens_en))))\n",
        "display(Markdown(\"###Number of word tokens after applying heuristics is {}\".format(len(HueTokens_en))))\n",
        "\n",
        "display(Markdown(\"###New word tokens are:\"))\n",
        "print(HueTokens_en[:20])\n"
      ],
      "execution_count": null,
      "outputs": [
        {
          "output_type": "display_data",
          "data": {
            "text/markdown": "##HEURISTICS ON ENGLISH TEXT",
            "text/plain": [
              "<IPython.core.display.Markdown object>"
            ]
          },
          "metadata": {
            "tags": []
          }
        },
        {
          "output_type": "display_data",
          "data": {
            "text/markdown": "###Number of sentences before applying heuristics is 761582",
            "text/plain": [
              "<IPython.core.display.Markdown object>"
            ]
          },
          "metadata": {
            "tags": []
          }
        },
        {
          "output_type": "display_data",
          "data": {
            "text/markdown": "###Number of sentences after applying heuristics is 798448",
            "text/plain": [
              "<IPython.core.display.Markdown object>"
            ]
          },
          "metadata": {
            "tags": []
          }
        },
        {
          "output_type": "display_data",
          "data": {
            "text/markdown": "###New sentence tokens are:",
            "text/plain": [
              "<IPython.core.display.Markdown object>"
            ]
          },
          "metadata": {
            "tags": []
          }
        },
        {
          "output_type": "stream",
          "text": [
            "['The word \"atom\" was coined by ancient Greek philosophers.', 'However, these ideas were founded in philosophical and theological reasoning rather than evidence and experimentation.', 'As a result, their views on what atoms look like and how they behave were incorrect.', 'They also could not convince everybody, so atomism was but one of a number of competing theories on the nature of matter.', 'It was not until the 19th century that the idea was embraced and refined by scientists, when the blossoming science of chemistry produced discoveries that only the concept of atoms could explain.', 'In the early 1800s, John Dalton used the concept of atoms to explain why elements always react in ratios of small whole numbers (the law of multiple proportions).', 'For instance, there are two types of tin oxide: one is 88.1% tin and 11.9% oxygen and the other is 78.7% tin and 21.3% oxygen (tin(II) oxide and tin dioxide respectively).', 'This means that 100g of tin will combine either with 13.5g or 27g of oxygen.', '13.5', 'and 27 form a ratio of 1:2, a ratio of small whole numbers.', 'This common pattern in chemistry suggested to Dalton that elements react in whole number multiples of discrete units—in other words, atoms.', 'In the case of tin oxides, one tin atom will combine with either one or two oxygen atoms.', 'Dalton also believed atomic theory could explain why water absorbs different gases in different proportions.', 'For example, he found that water absorbs carbon dioxide far better than it absorbs nitrogen.', \"Dalton hypothesized this was due to the differences in mass and complexity of the gases' respective particles.\", 'Indeed, carbon dioxide molecules (CO) are heavier and larger than nitrogen molecules (N).', 'In 1827, botanist Robert Brown used a microscope to look at dust grains floating in water and discovered that they moved about erratically, a phenomenon that became known as \"Brownian motion\".', 'This was thought to be caused by water molecules knocking the grains about.', 'In 1905 Albert Einstein proved the reality of these molecules and their motions by producing the first Statistical physics analysis of Brownian motion.', \"French physicist Jean Perrin used Einstein's work to experimentally determine the mass and dimensions of atoms, thereby conclusively verifying Dalton's atomic theory.\"]\n"
          ],
          "name": "stdout"
        },
        {
          "output_type": "display_data",
          "data": {
            "text/markdown": "###Number of word tokens before applying heuristics is 19602236",
            "text/plain": [
              "<IPython.core.display.Markdown object>"
            ]
          },
          "metadata": {
            "tags": []
          }
        },
        {
          "output_type": "display_data",
          "data": {
            "text/markdown": "###Number of word tokens after applying heuristics is 18610493",
            "text/plain": [
              "<IPython.core.display.Markdown object>"
            ]
          },
          "metadata": {
            "tags": []
          }
        },
        {
          "output_type": "display_data",
          "data": {
            "text/markdown": "###New word tokens are:",
            "text/plain": [
              "<IPython.core.display.Markdown object>"
            ]
          },
          "metadata": {
            "tags": []
          }
        },
        {
          "output_type": "stream",
          "text": [
            "['The', 'word', '\"atom\"', 'was', 'coined', 'by', 'ancient', 'Greek', 'philosophers', '.', 'However', ',', 'these', 'ideas', 'were', 'founded', 'in', 'philosophical', 'and', 'theological']\n"
          ],
          "name": "stdout"
        }
      ]
    },
    {
      "cell_type": "code",
      "metadata": {
        "id": "jg5x8UC6XKlK",
        "outputId": "bad871b7-345c-4fcd-c343-4c81d14cf299",
        "colab": {
          "base_uri": "https://localhost:8080/",
          "height": 340
        }
      },
      "source": [
        "# Implementing hueristics dicussed in lecture slides for HINDI TEXT\n",
        "\n",
        "display(Markdown(\"##HEURISTICS ON HINDI TEXT\"))\n",
        "\n",
        "# SENTENCE SEGMENTATION USING HEURISTICS\n",
        "\n",
        "sent_HueTokens_hi = []\n",
        "curr_read_tokens = []\n",
        "\n",
        "for index,word in enumerate(hi_FileContent.split()):\n",
        "  curr_read_tokens.append(word)\n",
        "  \n",
        "  # HEURISTIC 1: Check If a ending quote follows a ? or !. If yes, we do not split sentences on that ? or !\n",
        "  if len(word) > 1 and (word[-2:-1] == '?' or word[-2:-1] == '!' or word[-2:-1] == '|'):\n",
        "      if (word[-1:] == '\"'):\n",
        "        continue\n",
        "      sent_HueTokens_hi.append(' '.join(curr_read_tokens))\n",
        "      curr_read_tokens = []\n",
        "\n",
        "  # HEURISTIC 2: Put putative boundary after occurence of । , ?, !\n",
        "  if (word[-1:]== '.' or word[-1:]=='।' or word[-1:]=='?' or word[-1:]=='!'):\n",
        "    sent_HueTokens_hi.append(' '.join(curr_read_tokens))\n",
        "    curr_read_tokens = []\n",
        "\n",
        "display(Markdown(\"###Number of sentences before applying heuristics is {}\".format(len(sent_tokens_hi))))\n",
        "display(Markdown(\"###Number of sentences after applying heuristics is {}\".format(len(sent_HueTokens_hi))))\n",
        "\n",
        "display(Markdown(\"###New sentence tokens are:\"))\n",
        "print(sent_HueTokens_hi[:20])\n",
        "\n",
        "# WORD TOKENIZATION USING HEURISTICS\n",
        "\n",
        "HueTokens_hi = []\n",
        "\n",
        "# HEURISTIC 1: Check if a there is one of '.', '?', '!', ',', ';', ':'. If yes, we drop them if they are not preceded by a known abbreviation\n",
        "for sent in sent_HueTokens_hi:\n",
        "  for word in sent.split():\n",
        "    if (word[-1:]== '.' or word[-1:]== '।' or word[-1:]=='?' or word[-1:]=='!' or word[-1:]==',' or word[-1:]==';'):\n",
        "      HueTokens_hi.append(word[:-1])\n",
        "      HueTokens_hi.append(word[-1:])\n",
        "    else:\n",
        "      HueTokens_hi.append(word)\n",
        "\n",
        "display(Markdown(\"###Number of word tokens before applying heuristics is {}\".format(len(tokens_hi))))\n",
        "display(Markdown(\"###Number of word tokens after applying heuristics is {}\".format(len(HueTokens_hi))))\n",
        "\n",
        "display(Markdown(\"###New word tokens are:\"))\n",
        "print(HueTokens_hi[:20])"
      ],
      "execution_count": null,
      "outputs": [
        {
          "output_type": "display_data",
          "data": {
            "text/markdown": "##HEURISTICS ON HINDI TEXT",
            "text/plain": [
              "<IPython.core.display.Markdown object>"
            ]
          },
          "metadata": {
            "tags": []
          }
        },
        {
          "output_type": "display_data",
          "data": {
            "text/markdown": "###Number of sentences before applying heuristics is 348593",
            "text/plain": [
              "<IPython.core.display.Markdown object>"
            ]
          },
          "metadata": {
            "tags": []
          }
        },
        {
          "output_type": "display_data",
          "data": {
            "text/markdown": "###Number of sentences after applying heuristics is 350201",
            "text/plain": [
              "<IPython.core.display.Markdown object>"
            ]
          },
          "metadata": {
            "tags": []
          }
        },
        {
          "output_type": "display_data",
          "data": {
            "text/markdown": "###New sentence tokens are:",
            "text/plain": [
              "<IPython.core.display.Markdown object>"
            ]
          },
          "metadata": {
            "tags": []
          }
        },
        {
          "output_type": "stream",
          "text": [
            "['मास्टर ऑफ़ हेल्थ एडमिनिस्ट्रेशन या मास्टर ऑफ हेल्थकेयर एडमिनिस्ट्रेशन (एमएचए या एम.एच.ए) स्नातकोत्तर (पोस्ट ग्रेजुएशन) की एक पेशेवर डिग्री है जो स्वास्थ्य प्रशासन के क्षेत्र में दी जाती हैं।', 'यह उन छात्रों को प्रदान की जाती हैं जिन्होंने स्वास्थ्य प्रशासन, अस्पताल प्रबंधन एवं अन्य स्वास्थ्य सेवा संगठनों के क्षेत्र में जरूरी ज्ञान और दक्षता हासिल की हैं।', 'इन पाठ्यक्रमो में परिस्थितियों के अनुसार इनके सरंचना में अंतर हो सकता हैं हालांकि व्यवसायी-शिक्षक मॉडल कार्यक्रम आमतौर पर चिकित्सा, स्वास्थ्य व्यवसायों या संबद्ध स्वास्थ्य के कॉलेजों में पाए जाते हैं, कक्षा-आधारित कार्यक्रम व्यवसाय या सार्वजनिक स्वास्थ्य के कॉलेजों में होते हैं।', 'इस पाठ्यक्रम के अध्ययन के दौरान आम तौर पर विद्यार्थियों को जनसंख्या स्वास्थ्य, स्वास्थ्य देखभाल अर्थशास्त्र, स्वास्थ्य नीति, संगठनात्मक व्यवहार, स्वास्थ्य से जुड़े संगठनों के प्रबंधन, स्वास्थ्य विपणन और संचार, मानव संसाधन प्रबंधन, सूचना प्रणाली प्रबंधन के अध्ययन एवं अन्य क्षेत्रों में व्यावहारिक अनुभव की भी आवश्यकता होती है।', 'यह डिग्री प्रोग्राम स्वास्थ्य विषय के स्नातको को प्रबंधन के मुद्दों की विस्तृत एवं गहन समझ और उन्हें वरिष्ठ प्रबंधन भूमिकाओं के लिए तैयार करने के लिए डिज़ाइन किया गया है।', 'यह अमेरिकी, यूरोपीय, ऑस्ट्रेलियाई, भारतीय और श्रीलंकाई (पोस्ट ग्रेजुएट इंस्टीट्यूट ऑफ मेडिसिन- कोलंबो विश्वविद्यालय) विश्वविद्यालयों के द्वारा प्रदान किया जाता हैं।', 'यह डिग्री प्रोग्राम पारंपरिक रूप से स्वास्थ्य प्रशासन के स्थानीय, राज्य और संघीय स्तर पर एवं साथ ही गैर-लाभकारी क्षेत्र पर केंद्रित होता है।', 'एमएचए कार्यक्रमों का उद्देश्य छात्रों को स्वास्थ्य सेवाओं और सिस्टम क्षेत्रों में वरिष्ठ प्रबंधकीय और नियोजन कार्य के लिए जरूरी ज्ञान प्रदान करना है।', 'कार्यक्रम के उद्देश्य उन स्नातकों को विकसित करना है जो सक्षम सामान्य और वित्तीय प्रबंधकों, सक्षम योजनाकारों, सार्वजनिक स्वास्थ्य के बारे में जानकार और स्वास्थ्य देखभाल प्रणालियों के वित्तपोषण, समाज, कानून और नैतिकता के बारे में जानकार हो।', 'इस पाठ्यक्रम के लिए अधिकांश देशों में, आवेदकों को न्यूनतम चार वर्ष की स्नातक से नीचे की डिग्री की आवश्यकता होती है एवं उन्हें स्वास्थ्य प्रणाली में न्यूनतम पेशेवर अनुभव वांछनीय है।', 'यदयपि विभिन्न विश्वविद्यालयों के अपने मापदंड होते है।', 'यद्यपि संयुक्त राज्य में वाणिज्य, सार्वजनिक स्वास्थ्य एवं स्वास्थ्य विज्ञान के कई कॉलेजों में स्वास्थ्य प्रशासन की डिग्री होती हैं, लेकिन उनमे से ही केवल कुछ को ही “कमीशन ओन द अक्रेदिसन ऑफ़ हेल्थकेयर मैनेजमेंट एजुकेशन” (सीएएचएमई) के द्वारा मान्यता दी जाती है।', 'इन मान्यता प्राप्त कार्यक्रमों में आवेदन करने के लिए आवेदकों को चार साल की पूर्वस्नातक की डिग्री होनी चाहिये।', 'कुछ विश्वविद्यालय एएसीएसबी मान्यता, या एमबीए / एचओएम डिग्री कार्यक्रमों के साथ दोहरी एमबीए / एमएचए की डिग्री प्रदान करते हैं, जो कि समवर्ती या क्रमिक रूप से पूरा हो सकते हैं।', 'कुछ एमएचए कार्यक्रमों को नामांकन से पहले पेशेवर अनुभव की आवश्यकता नहीं होती है लेकिन अधिकांश ऐसे पाठ्यक्रमों में कार्य अनुभव की आवश्यकता होती हैं जिसमें इंटर्नशिप या फेलोशिप शामिल हैं।', 'संयुक्त राज्य में हेल्थकेयर एडमिनिस्ट्रेशन स्नातक कार्यक्रम अधिकांशत: सार्वजनिक स्वास्थ्य, व्यवसाय, संबद्ध स्वास्थ्य के विद्यालयों द्वारा संचालित किये जाते हैं एवं आषधियों पाठ्शालाओं के द्वारा काफी कम संचालित किये जाते हैं।', 'ऑस्ट्रेलिया में मास्टर ऑफ़ हेल्थ एडमिनिस्ट्रेशन दो भागों में विभाजित किया जा सकता है जिसमें पहला भाग स्वास्थ्य सेवा प्रबंधन में स्नातक डिप्लोमा और इसी के परिणाम के आधार पर इन डिग्रीधारीयों को कोर्स के दुसरे भाग में जारी रखने की अनुमति दी जाती है जो मास्टर ऑफ हैल्थकेयर एडमिनिस्ट्रेशन की डिग्री में परिणत हो जाती है।', 'भारत में भी मास्टर ऑफ़ हेल्थ एडमिनिस्ट्रेशन पाठ्यक्रम कई विश्वविद्यालयों एवं अस्पतालों द्वारा आयोजित किया जाता हैं।', 'कॉर्पोरेट संस्कृति एवं अत्याधुनिक अस्पतालों के आगमन के चलते भारत मे भी इन पाठ्यक्रमों की जरुरत बढती जा रही हैं।', 'भारत में यह २ वर्षीय पाठ्यक्रम ४ समेस्टर (6 महीने का एक समेस्टर) में बिभाजित होता हैं।']\n"
          ],
          "name": "stdout"
        },
        {
          "output_type": "display_data",
          "data": {
            "text/markdown": "###Number of word tokens before applying heuristics is 8640033",
            "text/plain": [
              "<IPython.core.display.Markdown object>"
            ]
          },
          "metadata": {
            "tags": []
          }
        },
        {
          "output_type": "display_data",
          "data": {
            "text/markdown": "###Number of word tokens after applying heuristics is 8186382",
            "text/plain": [
              "<IPython.core.display.Markdown object>"
            ]
          },
          "metadata": {
            "tags": []
          }
        },
        {
          "output_type": "display_data",
          "data": {
            "text/markdown": "###New word tokens are:",
            "text/plain": [
              "<IPython.core.display.Markdown object>"
            ]
          },
          "metadata": {
            "tags": []
          }
        },
        {
          "output_type": "stream",
          "text": [
            "['मास्टर', 'ऑफ़', 'हेल्थ', 'एडमिनिस्ट्रेशन', 'या', 'मास्टर', 'ऑफ', 'हेल्थकेयर', 'एडमिनिस्ट्रेशन', '(एमएचए', 'या', 'एम.एच.ए)', 'स्नातकोत्तर', '(पोस्ट', 'ग्रेजुएशन)', 'की', 'एक', 'पेशेवर', 'डिग्री', 'है']\n"
          ],
          "name": "stdout"
        }
      ]
    },
    {
      "cell_type": "code",
      "metadata": {
        "id": "ezeMwDj9fgg8",
        "outputId": "eb1eaf54-931f-462c-e8f2-6af47b565887",
        "colab": {
          "base_uri": "https://localhost:8080/",
          "height": 554
        }
      },
      "source": [
        "del freq_unigrams_en\n",
        "del freq_unigrams_hi\n",
        "del freq_bigrams_en\n",
        "del freq_bigrams_hi\n",
        "del freq_trigrams_en\n",
        "del freq_trigrams_hi\n",
        "\n",
        "freq_unigrams_en = get_frequency(HueTokens_en,1)\n",
        "freq_bigrams_en = get_frequency(HueTokens_en,2)\n",
        "freq_trigrams_en = get_frequency(HueTokens_en,3)\n",
        "\n",
        "freq_unigrams_hi = get_frequency(HueTokens_hi,1)\n",
        "freq_bigrams_hi = get_frequency(HueTokens_hi,2)\n",
        "freq_trigrams_hi = get_frequency(HueTokens_hi,3)\n",
        "\n",
        "words_en = len(HueTokens_en)\n",
        "words_hi = len(HueTokens_hi)\n",
        "\n",
        "display(Markdown(\"##Analysis of Task 1.3.2 after applying heuristics\"))\n",
        "\n",
        "display(Markdown(\"###No of most frequent unigrams required to cover 90% of English Text is: {}\".format(str(num_freq_words(freq_unigrams_en,0.9,1,words_en)))))\n",
        "display(Markdown(\"###No of most frequent unigrams required to cover 90% of Hindi Text is: {}\".format(str(num_freq_words(freq_unigrams_hi,0.9,1,words_hi)))))\n",
        "display(Markdown(\"###No of most frequent bigrams required to cover 80% of English Text is: {}\".format(str(num_freq_words(freq_bigrams_en,0.8,2,words_en)))))\n",
        "display(Markdown(\"###No of most frequent bigrams required to cover 80% of Hindi Text is: {}\".format(str(num_freq_words(freq_bigrams_hi,0.8,2,words_hi)))))\n",
        "display(Markdown(\"###No of most frequent trigrams required to cover 70% of English Text is: {}\".format(str(num_freq_words(freq_trigrams_en,0.7,3,words_en)))))\n",
        "display(Markdown(\"###No of most frequent trigrams required to cover 70% of Hindi Text is: {}\".format(str(num_freq_words(freq_trigrams_hi,0.7,3,words_hi)))))\n",
        "\n",
        "# PERFORM PORTER STEMMING FOR ENGLISH CORPUS\n",
        "tokens_en = stem_tokens(HueTokens_en)\n",
        "\n",
        "# Performing stemming on each token in hindi corpus\n",
        "suffixes = {\n",
        "    1: [\"ो\", \"े\", \"ू\", \"ु\", \"ी\", \"ि\", \"ा\"],\n",
        "    2: [\"कर\", \"ाओ\", \"िए\", \"ाई\", \"ाए\", \"ने\", \"नी\", \"ना\", \"ते\", \"ीं\", \"ती\", \"ता\", \"ाँ\", \"ां\", \"ों\", \"ें\"],\n",
        "    3: [\"ाकर\", \"ाइए\", \"ाईं\", \"ाया\", \"ेगी\", \"ेगा\", \"ोगी\", \"ोगे\", \"ाने\", \"ाना\", \"ाते\", \"ाती\", \"ाता\", \"तीं\", \"ाओं\", \"ाएं\", \"ुओं\", \"ुएं\", \"ुआं\"],\n",
        "    4: [\"ाएगी\", \"ाएगा\", \"ाओगी\", \"ाओगे\", \"एंगी\", \"ेंगी\", \"एंगे\", \"ेंगे\", \"ूंगी\", \"ूंगा\", \"ातीं\", \"नाओं\", \"नाएं\", \"ताओं\", \"ताएं\", \"ियाँ\", \"ियों\", \"ियां\"],\n",
        "    5: [\"ाएंगी\", \"ाएंगे\", \"ाऊंगी\", \"ाऊंगा\", \"ाइयाँ\", \"ाइयों\", \"ाइयां\"],\n",
        "}\n",
        "\n",
        "def stemmer_hi(word):\n",
        "    for L in range(5, 0, -1):\n",
        "        if len(word) > L + 1:\n",
        "            for suf in suffixes[L]:\n",
        "                if word.endswith(suf):\n",
        "                    return word[:-L]\n",
        "    return word\n",
        "\n",
        "tokens_hi = [stemmer_hi(word) for word in HueTokens_hi]\n",
        "\n",
        "# freeing up RAM\n",
        "\n",
        "del freq_unigrams_en\n",
        "del freq_unigrams_hi\n",
        "del freq_bigrams_en\n",
        "del freq_bigrams_hi\n",
        "del freq_trigrams_en\n",
        "del freq_trigrams_hi\n",
        "\n",
        "freq_unigrams_en = get_frequency(tokens_en,1)\n",
        "freq_bigrams_en = get_frequency(tokens_en,2)\n",
        "freq_trigrams_en = get_frequency(tokens_en,3)\n",
        "\n",
        "freq_unigrams_hi = get_frequency(tokens_hi,1)\n",
        "freq_bigrams_hi = get_frequency(tokens_hi,2)\n",
        "freq_trigrams_hi = get_frequency(tokens_hi,3)\n",
        "\n",
        "words_en = len(tokens_en)\n",
        "words_hi = len(tokens_hi)\n",
        "\n",
        "display(Markdown(\"#After Performing Stemming\"))\n",
        "\n",
        "display(Markdown(\"###No of most frequent unigrams required to cover 90% of English Text is: {}\".format(str(num_freq_words(freq_unigrams_en,0.9,1,words_en)))))\n",
        "display(Markdown(\"###No of most frequent unigrams required to cover 90% of Hindi Text is: {}\".format(str(num_freq_words(freq_unigrams_hi,0.9,1,words_hi)))))\n",
        "display(Markdown(\"###No of most frequent bigrams required to cover 80% of English Text is: {}\".format(str(num_freq_words(freq_bigrams_en,0.8,2,words_en)))))\n",
        "display(Markdown(\"###No of most frequent bigrams required to cover 80% of Hindi Text is: {}\".format(str(num_freq_words(freq_bigrams_hi,0.8,2,words_hi)))))\n",
        "display(Markdown(\"###No of most frequent trigrams required to cover 70% of English Text is: {}\".format(str(num_freq_words(freq_trigrams_en,0.7,3,words_en)))))\n",
        "display(Markdown(\"###No of most frequent trigrams required to cover 70% of Hindi Text is: {}\".format(str(num_freq_words(freq_trigrams_hi,0.7,3,words_hi)))))"
      ],
      "execution_count": null,
      "outputs": [
        {
          "output_type": "display_data",
          "data": {
            "text/markdown": "##Analysis of Task 1.3.2 after applying heuristics",
            "text/plain": [
              "<IPython.core.display.Markdown object>"
            ]
          },
          "metadata": {
            "tags": []
          }
        },
        {
          "output_type": "display_data",
          "data": {
            "text/markdown": "###No of most frequent unigrams required to cover 90% of English Text is: 57189",
            "text/plain": [
              "<IPython.core.display.Markdown object>"
            ]
          },
          "metadata": {
            "tags": []
          }
        },
        {
          "output_type": "display_data",
          "data": {
            "text/markdown": "###No of most frequent unigrams required to cover 90% of Hindi Text is: 44071",
            "text/plain": [
              "<IPython.core.display.Markdown object>"
            ]
          },
          "metadata": {
            "tags": []
          }
        },
        {
          "output_type": "display_data",
          "data": {
            "text/markdown": "###No of most frequent bigrams required to cover 80% of English Text is: 97139",
            "text/plain": [
              "<IPython.core.display.Markdown object>"
            ]
          },
          "metadata": {
            "tags": []
          }
        },
        {
          "output_type": "display_data",
          "data": {
            "text/markdown": "###No of most frequent bigrams required to cover 80% of Hindi Text is: 61116",
            "text/plain": [
              "<IPython.core.display.Markdown object>"
            ]
          },
          "metadata": {
            "tags": []
          }
        },
        {
          "output_type": "display_data",
          "data": {
            "text/markdown": "###No of most frequent trigrams required to cover 70% of English Text is: 525589",
            "text/plain": [
              "<IPython.core.display.Markdown object>"
            ]
          },
          "metadata": {
            "tags": []
          }
        },
        {
          "output_type": "display_data",
          "data": {
            "text/markdown": "###No of most frequent trigrams required to cover 70% of Hindi Text is: 324451",
            "text/plain": [
              "<IPython.core.display.Markdown object>"
            ]
          },
          "metadata": {
            "tags": []
          }
        },
        {
          "output_type": "display_data",
          "data": {
            "text/markdown": "#After Performing Stemming",
            "text/plain": [
              "<IPython.core.display.Markdown object>"
            ]
          },
          "metadata": {
            "tags": []
          }
        },
        {
          "output_type": "display_data",
          "data": {
            "text/markdown": "###No of most frequent unigrams required to cover 90% of English Text is: 26106",
            "text/plain": [
              "<IPython.core.display.Markdown object>"
            ]
          },
          "metadata": {
            "tags": []
          }
        },
        {
          "output_type": "display_data",
          "data": {
            "text/markdown": "###No of most frequent unigrams required to cover 90% of Hindi Text is: 28280",
            "text/plain": [
              "<IPython.core.display.Markdown object>"
            ]
          },
          "metadata": {
            "tags": []
          }
        },
        {
          "output_type": "display_data",
          "data": {
            "text/markdown": "###No of most frequent bigrams required to cover 80% of English Text is: 57856",
            "text/plain": [
              "<IPython.core.display.Markdown object>"
            ]
          },
          "metadata": {
            "tags": []
          }
        },
        {
          "output_type": "display_data",
          "data": {
            "text/markdown": "###No of most frequent bigrams required to cover 80% of Hindi Text is: 39040",
            "text/plain": [
              "<IPython.core.display.Markdown object>"
            ]
          },
          "metadata": {
            "tags": []
          }
        },
        {
          "output_type": "display_data",
          "data": {
            "text/markdown": "###No of most frequent trigrams required to cover 70% of English Text is: 414291",
            "text/plain": [
              "<IPython.core.display.Markdown object>"
            ]
          },
          "metadata": {
            "tags": []
          }
        },
        {
          "output_type": "display_data",
          "data": {
            "text/markdown": "###No of most frequent trigrams required to cover 70% of Hindi Text is: 254619",
            "text/plain": [
              "<IPython.core.display.Markdown object>"
            ]
          },
          "metadata": {
            "tags": []
          }
        }
      ]
    },
    {
      "cell_type": "code",
      "metadata": {
        "id": "m9-lIoR2H2YZ"
      },
      "source": [
        "del freq_unigrams_en\n",
        "del freq_unigrams_hi\n",
        "del freq_bigrams_en\n",
        "del freq_bigrams_hi\n",
        "del freq_trigrams_en\n",
        "del freq_trigrams_hi\n",
        "\n",
        "# tokenized again, without stemming\n",
        "tokens_en = nltk.word_tokenize(en_FileContent)\n",
        "tokens_hi = indic_tokenize.trivial_tokenize(hi_FileContent)\n",
        "\n",
        "freq_unigrams_en = get_frequency(tokens_en,1)\n",
        "freq_bigrams_en = get_frequency(tokens_en,2)\n",
        "# freq_trigrams_en = get_frequency(tokens_en,3)\n",
        "\n",
        "freq_unigrams_hi = get_frequency(tokens_hi,1)\n",
        "freq_bigrams_hi = get_frequency(tokens_hi,2)\n",
        "# freq_trigrams_hi = get_frequency(tokens_hi,3)"
      ],
      "execution_count": null,
      "outputs": []
    },
    {
      "cell_type": "code",
      "metadata": {
        "id": "YW-xsM4y0k8H"
      },
      "source": [
        "import numpy as np\n",
        "\n",
        "def logL(k, n, x):\n",
        "  return k*np.log(x) + (n-k)*np.log(1-x)\n",
        "\n",
        "def likelihood_ratio(c1, c2, c12, bigram, N):\n",
        "  p = c2/N\n",
        "  p1 = c12/c1\n",
        "  p2 = (c2-c12)/(N-c1)\n",
        "\n",
        "  log_lambda = logL(c12, c1, p) + logL(c2-c12, N-c1, p) - logL(c12, c1, p1) - logL(c2-c12, N-c1, p2)\n",
        "  if np.isnan(log_lambda):\n",
        "    log_lambda = 0\n",
        "  return [-2*log_lambda, bigram]"
      ],
      "execution_count": null,
      "outputs": []
    },
    {
      "cell_type": "code",
      "metadata": {
        "id": "CwouArkn1E23",
        "outputId": "8db85865-cd9c-4855-f894-485e36b37896",
        "colab": {
          "base_uri": "https://localhost:8080/",
          "height": 447
        }
      },
      "source": [
        "likelihood_bigrams_en = []\n",
        "likelihood_bigrams_hi = []\n",
        "\n",
        "for key, value in freq_bigrams_en.items():\n",
        "  if(len(key.split())) == 2:\n",
        "    c1 = freq_unigrams_en.get(key[0])            # default value is 1\n",
        "    c2 = freq_unigrams_en.get(key[1])\n",
        "    if c1 is None or c2 is None:\n",
        "      continue\n",
        "    likelihood_bigrams_en.append(likelihood_ratio(c1,c2,value,key,len(tokens_en)))\n",
        "\n",
        "for key, value in freq_bigrams_hi.items():\n",
        "  if(len(key.split())) == 2:\n",
        "    c1 = freq_unigrams_hi.get(key[0])\n",
        "    c2 = freq_unigrams_hi.get(key[1])\n",
        "    if c1 is None or c2 is None:\n",
        "      continue\n",
        "    likelihood_bigrams_hi.append(likelihood_ratio(c1,c2,value,key,len(tokens_hi)))\n",
        "\n",
        "likelihood_bigrams_en = sorted(likelihood_bigrams_en, reverse=True)\n",
        "likelihood_bigrams_hi = sorted(likelihood_bigrams_hi, reverse=True)\n",
        "\n",
        "display(Markdown(\"## Top 10 collocations in English in decreasing order of their rank:\"))\n",
        "count=0\n",
        "for token in likelihood_bigrams_en:\n",
        "  if '.' in token[1]:\n",
        "    continue\n",
        "  count+=1\n",
        "  if count > 10:\n",
        "    break\n",
        "  print(token)\n",
        "display(Markdown(\"## Top 10 collocations in Hindi in decreasing order of their rank:\"))\n",
        "count=0\n",
        "for token in likelihood_bigrams_hi:\n",
        "  count+=1\n",
        "  if count > 10:\n",
        "    break\n",
        "  print(token)\n"
      ],
      "execution_count": null,
      "outputs": [
        {
          "output_type": "display_data",
          "data": {
            "text/markdown": "## Top 10 collocations in English in decreasing order of their rank:",
            "text/plain": [
              "<IPython.core.display.Markdown object>"
            ]
          },
          "metadata": {
            "tags": []
          }
        },
        {
          "output_type": "stream",
          "text": [
            "[169882.0412738877, \"'' )\"]\n",
            "[143930.19322545297, \"'' and\"]\n",
            "[67244.2023593104, \"'s ``\"]\n",
            "[66649.0947585997, \"'' in\"]\n",
            "[54805.113819452265, \"'' is\"]\n",
            "[51401.645762916014, \"'' was\"]\n",
            "[39234.87108891622, '65 or']\n",
            "[32585.641845086997, 'as an']\n",
            "[28763.679292086206, 'Asian ,']\n",
            "[22074.778686408397, '19th century']\n"
          ],
          "name": "stdout"
        },
        {
          "output_type": "display_data",
          "data": {
            "text/markdown": "## Top 10 collocations in Hindi in decreasing order of their rank:",
            "text/plain": [
              "<IPython.core.display.Markdown object>"
            ]
          },
          "metadata": {
            "tags": []
          }
        },
        {
          "output_type": "stream",
          "text": [
            "[8174.151193901955, 'नदी के']\n",
            "[7667.44348975255, 'आवश्यक है']\n",
            "[7043.512733480589, 'एक बहुत']\n",
            "[6716.994836987591, 'एक नया']\n",
            "[6628.611003864106, '2005 में']\n",
            "[6421.6049407488945, 'एक बड़ा']\n",
            "[6421.6049407488945, 'एक ऐसा']\n",
            "[6256.166105601619, 'एक ऐसी']\n",
            "[6217.188073083991, 'कई अन्य']\n",
            "[6110.0286906755355, 'आदि के']\n"
          ],
          "name": "stdout"
        }
      ]
    },
    {
      "cell_type": "markdown",
      "metadata": {
        "id": "F518F48DQzac"
      },
      "source": [
        "**SECTION 1.3.4 (MORPHOLOGICAL PARSING)**"
      ]
    },
    {
      "cell_type": "code",
      "metadata": {
        "id": "mpSpqHMOOt9M",
        "outputId": "a8c97ea2-b58d-4a90-a2b1-ce0b35d72866",
        "colab": {
          "base_uri": "https://localhost:8080/",
          "height": 554
        }
      },
      "source": [
        "!pip3 install -U git+https://github.com/aboSamoor/polyglot.git@master\n",
        "!polyglot download morph2.en\n",
        "!polyglot download morph2.hi"
      ],
      "execution_count": null,
      "outputs": [
        {
          "output_type": "stream",
          "text": [
            "Collecting git+https://github.com/aboSamoor/polyglot.git@master\n",
            "  Cloning https://github.com/aboSamoor/polyglot.git (to revision master) to /tmp/pip-req-build-9l1_0xte\n",
            "  Running command git clone -q https://github.com/aboSamoor/polyglot.git /tmp/pip-req-build-9l1_0xte\n",
            "Collecting futures>=2.1.6\n",
            "  Downloading https://files.pythonhosted.org/packages/05/80/f41cca0ea1ff69bce7e7a7d76182b47bb4e1a494380a532af3e8ee70b9ec/futures-3.1.1-py3-none-any.whl\n",
            "Requirement already satisfied, skipping upgrade: numpy>=1.6.1 in /usr/local/lib/python3.6/dist-packages (from polyglot==16.7.4) (1.18.5)\n",
            "Requirement already satisfied, skipping upgrade: six>=1.7.3 in /usr/local/lib/python3.6/dist-packages (from polyglot==16.7.4) (1.15.0)\n",
            "Collecting pycld2>=0.3\n",
            "\u001b[?25l  Downloading https://files.pythonhosted.org/packages/21/d2/8b0def84a53c88d0eb27c67b05269fbd16ad68df8c78849e7b5d65e6aec3/pycld2-0.41.tar.gz (41.4MB)\n",
            "\u001b[K     |████████████████████████████████| 41.4MB 95kB/s \n",
            "\u001b[?25hRequirement already satisfied, skipping upgrade: morfessor>=2.0.2a1 in /usr/local/lib/python3.6/dist-packages (from polyglot==16.7.4) (2.0.6)\n",
            "Requirement already satisfied, skipping upgrade: wheel>=0.23.0 in /usr/local/lib/python3.6/dist-packages (from polyglot==16.7.4) (0.35.1)\n",
            "Collecting PyICU>=1.8\n",
            "\u001b[?25l  Downloading https://files.pythonhosted.org/packages/5a/99/c48c816095208bf3f4936ff67e571621fbddef461303a35a076f234e31f6/PyICU-2.5.tar.gz (225kB)\n",
            "\u001b[K     |████████████████████████████████| 235kB 39.3MB/s \n",
            "\u001b[?25hBuilding wheels for collected packages: polyglot, pycld2, PyICU\n",
            "  Building wheel for polyglot (setup.py) ... \u001b[?25l\u001b[?25hdone\n",
            "  Created wheel for polyglot: filename=polyglot-16.7.4-py2.py3-none-any.whl size=70643 sha256=4e30c42594171725ce93d7bbb8abcce1546614cd98fb6c430447253571a045a8\n",
            "  Stored in directory: /tmp/pip-ephem-wheel-cache-3jnkiafb/wheels/42/d9/73/345c7ae8554299ff8b31635d64eb8455fd591385fa734cdbef\n",
            "  Building wheel for pycld2 (setup.py) ... \u001b[?25l\u001b[?25hdone\n",
            "  Created wheel for pycld2: filename=pycld2-0.41-cp36-cp36m-linux_x86_64.whl size=9833523 sha256=a7cb2ca52cf3e7417548716af042813c67e50541b4e32733f611d835b27bb49a\n",
            "  Stored in directory: /root/.cache/pip/wheels/c6/8f/e9/08a1a8932a490175bd140206cd86a3dbcfc70498100de11079\n",
            "  Building wheel for PyICU (setup.py) ... \u001b[?25l\u001b[?25hdone\n",
            "  Created wheel for PyICU: filename=PyICU-2.5-cp36-cp36m-linux_x86_64.whl size=1252540 sha256=44b90790bb1d1bebfaff63be0753facfa89ea02958043dfffc899f4e6e302d54\n",
            "  Stored in directory: /root/.cache/pip/wheels/07/3a/28/09f90c38785945ddf9af61b7add1aa62a740f40e259626ef3a\n",
            "Successfully built polyglot pycld2 PyICU\n",
            "Installing collected packages: futures, pycld2, PyICU, polyglot\n",
            "Successfully installed PyICU-2.5 futures-3.1.1 polyglot-16.7.4 pycld2-0.41\n",
            "[polyglot_data] Downloading package morph2.en to\n",
            "[polyglot_data]     /root/polyglot_data...\n",
            "[polyglot_data] Downloading package morph2.hi to\n",
            "[polyglot_data]     /root/polyglot_data...\n"
          ],
          "name": "stdout"
        }
      ]
    },
    {
      "cell_type": "code",
      "metadata": {
        "id": "XniwDhYgCf1d",
        "outputId": "9cb63b07-d4b6-4738-e5ff-0eb394b02044",
        "colab": {
          "base_uri": "https://localhost:8080/",
          "height": 67
        }
      },
      "source": [
        "from nltk import pos_tag\n",
        "nltk.download('averaged_perceptron_tagger')\n",
        "from polyglot.text import Text, Word\n",
        "\n",
        "# Helper function that does morphological parsing of passed language\n",
        "def morphological_parser(token_list, lang1, lang2):\n",
        "  pos_tags = pos_tag(token_list, None, lang1)\n",
        "  index=0\n",
        "  print(\"{0: <20} {1: <60} {2: <10}\".format(\"Word\", \"Morphemes\", \"POS\"))\n",
        "  for token in token_list:\n",
        "    token = Word(token, language=lang2)\n",
        "    print(\"{0: <20} {1: <60} {2: <10}\".format(str(token), str(token.morphemes), pos_tags[index][1]))\n",
        "    index+=1"
      ],
      "execution_count": null,
      "outputs": [
        {
          "output_type": "stream",
          "text": [
            "[nltk_data] Downloading package averaged_perceptron_tagger to\n",
            "[nltk_data]     /root/nltk_data...\n",
            "[nltk_data]   Unzipping taggers/averaged_perceptron_tagger.zip.\n"
          ],
          "name": "stdout"
        }
      ]
    },
    {
      "cell_type": "code",
      "metadata": {
        "id": "TzTHBHu_MwBZ",
        "outputId": "7b7fa742-415a-4223-c7b1-c0a22ec3079a",
        "colab": {
          "base_uri": "https://localhost:8080/",
          "height": 632
        }
      },
      "source": [
        "from operator import itemgetter\n",
        "from collections import OrderedDict\n",
        "import random\n",
        "\n",
        "random.shuffle(least_freq_en_100)\n",
        "random.shuffle(least_freq_hi_100)\n",
        "random.shuffle(most_freq_en_100)\n",
        "random.shuffle(most_freq_hi_100)\n",
        "\n",
        "display(Markdown(\"###Morphological analysis of 5 random tokens for 100 most frequent English tokens:\"))\n",
        "morphological_parser(most_freq_en_100[:5], 'en', \"en\")\n",
        "display(Markdown(\"###Morphological analysis of 5 random tokens for 100 least frequent English tokens:\"))\n",
        "morphological_parser(least_freq_en_100[:5], 'en', \"en\")\n",
        "display(Markdown(\"###Morphological analysis of 5 random tokens for 100 most frequent Hindi tokens:\"))\n",
        "morphological_parser(most_freq_hi_100[:5], 'hi', \"hi\")\n",
        "display(Markdown(\"###Morphological analysis of 5 random tokens for 100 least frequent Hindi tokens:\"))\n",
        "morphological_parser(least_freq_hi_100[:5], 'hi', \"hi\")\n"
      ],
      "execution_count": null,
      "outputs": [
        {
          "output_type": "display_data",
          "data": {
            "text/markdown": "###Morphological analysis of 5 random tokens for 100 most frequent English tokens:",
            "text/plain": [
              "<IPython.core.display.Markdown object>"
            ]
          },
          "metadata": {
            "tags": []
          }
        },
        {
          "output_type": "stream",
          "text": [
            "Word                 Morphemes                                                    POS       \n",
            "his                  ['hi', 's']                                                  PRP$      \n",
            "with                 ['with']                                                     IN        \n",
            "other                ['other']                                                    JJ        \n",
            "be                   ['be']                                                       VB        \n",
            "18                   ['18']                                                       CD        \n"
          ],
          "name": "stdout"
        },
        {
          "output_type": "display_data",
          "data": {
            "text/markdown": "###Morphological analysis of 5 random tokens for 100 least frequent English tokens:",
            "text/plain": [
              "<IPython.core.display.Markdown object>"
            ]
          },
          "metadata": {
            "tags": []
          }
        },
        {
          "output_type": "stream",
          "text": [
            "Word                 Morphemes                                                    POS       \n",
            "ununoctium           ['un', 'un', 'oc', 't', 'ium']                               JJ        \n",
            "vanadium-50          ['van', 'ad', 'ium', '-', '50']                              JJ        \n",
            "13.5g                ['1', '3.5', 'g']                                            CD        \n",
            "Transuranic          ['Trans', 'ura', 'nic']                                      JJ        \n",
            "scanning-tunneling-microscope ['s', 'can', 'ning', '-', 'tunnel', 'ing', '-', 'micro', 'scope'] NN        \n"
          ],
          "name": "stdout"
        },
        {
          "output_type": "display_data",
          "data": {
            "text/markdown": "###Morphological analysis of 5 random tokens for 100 most frequent Hindi tokens:",
            "text/plain": [
              "<IPython.core.display.Markdown object>"
            ]
          },
          "metadata": {
            "tags": []
          }
        },
        {
          "output_type": "stream",
          "text": [
            "Word                 Morphemes                                                    POS       \n",
            "यह                   ['यह']                                                       NN        \n",
            ",                    [',']                                                        ,         \n",
            "में                  ['में']                                                      NNP       \n",
            ")                    [')']                                                        )         \n",
            "तरह                  ['त', 'रह']                                                  NN        \n"
          ],
          "name": "stdout"
        },
        {
          "output_type": "display_data",
          "data": {
            "text/markdown": "###Morphological analysis of 5 random tokens for 100 least frequent Hindi tokens:",
            "text/plain": [
              "<IPython.core.display.Markdown object>"
            ]
          },
          "metadata": {
            "tags": []
          }
        },
        {
          "output_type": "stream",
          "text": [
            "Word                 Morphemes                                                    POS       \n",
            "स्त्रीलिंगवाचक       ['स्त्र', 'ी', 'लिंग', 'वाचक']                               JJ        \n",
            "\n",
            "प्रदत्त             ['\\n', 'प्र', 'दत्त']                                        NNP       \n",
            "सूत्रसाहित्य         ['सूत्र', 'साहित्य']                                         NNP       \n",
            "\n",
            "\n",
            "सर्वानुक्रमणी      ['\\n\\n', 'सर्व', 'ानु', 'क्रमण', 'ी']                        NNP       \n",
            "निभीर्कता            ['नि', 'भी', 'र्क', 'ता']                                    NN        \n"
          ],
          "name": "stdout"
        }
      ]
    },
    {
      "cell_type": "markdown",
      "metadata": {
        "id": "GyV4oSgEQ38y"
      },
      "source": [
        "**SECTION 1.3.5 (BYTE PAIR ENCODING)**"
      ]
    },
    {
      "cell_type": "code",
      "metadata": {
        "id": "eYjPXVwLQwSr"
      },
      "source": [
        "import collections\n",
        "\n",
        "# Helper functions for byte pair encoding\n",
        "\n",
        "# separate letters from tokens, add a '#' at the end\n",
        "def bpe_vocab_init(freq_dict):\n",
        "  new_dict = {}\n",
        "  for word, freq in freq_dict.items():\n",
        "    new_dict[' '.join(list(word)) + ' #'] = freq          \n",
        "  return new_dict\n",
        "\n",
        "# merge the highest freq pair into the current dictionary\n",
        "def bpe_merge(vocab, max_freq_pair):\n",
        "  new_dict = {}\n",
        "  old_pair = ' '.join(max_freq_pair)\n",
        "  new_pair = ''.join(max_freq_pair)\n",
        "  for word, freq in vocab.items():\n",
        "    temp = word.replace(old_pair, new_pair)\n",
        "    new_dict[temp] = freq\n",
        "  return new_dict\n",
        "\n",
        "# make letter pairs, which would be needed to find maximum frequency pair\n",
        "def get_pairs_freq(vocab):\n",
        "  letter_pairs = collections.defaultdict(int)\n",
        "  for word, freq in vocab.items():\n",
        "    letters = word.split()\n",
        "    for i in range(len(letters)-1):\n",
        "      letter_pairs[letters[i],letters[i+1]] += freq\n",
        "  return letter_pairs\n",
        "\n",
        "\n",
        "# Get the freqeuncy of tokens in vocabulary after 1000 merges\n",
        "def vocab_tokens(vocab):\n",
        "  new_dict = collections.defaultdict(int)\n",
        "  for word, freq in vocab.items():\n",
        "    letters = word.split()\n",
        "    for letter in letters:\n",
        "      new_dict[letter] += freq\n",
        "  return new_dict\n",
        "\n",
        "# To find the tokenisation of an test word usinng BPE\n",
        "def find_tokenisation(word, tokens, token_list):\n",
        "  if len(word) == 0:\n",
        "    return\n",
        "  for i in range(len(word)-1, -1, -1):\n",
        "    firstword = word[0:i]\n",
        "    reminder = word[i:len(word)]\n",
        "    if firstword in tokens:\n",
        "      token_list.append(firstword)\n",
        "      return find_tokenisation(reminder, tokens, token_list)"
      ],
      "execution_count": null,
      "outputs": []
    },
    {
      "cell_type": "code",
      "metadata": {
        "id": "qLCY2mFNtrmU",
        "outputId": "26dfc026-e1f0-44d6-93ec-9308b7040352",
        "colab": {
          "base_uri": "https://localhost:8080/",
          "height": 624
        }
      },
      "source": [
        "# BPE for English Text, taking 1000 tokens and doing 1000 merges\n",
        "vocab_en = {}\n",
        "count=0\n",
        "\n",
        "for token, freq in freq_unigrams_en.items():\n",
        "  if len(token) > 2:                                  # don't want to take punctuation marks in our vocabulary\n",
        "    vocab_en[token] = freq\n",
        "    count+=1  \n",
        "  if count > 1000:\n",
        "    break\n",
        "\n",
        "# making the vocab and defining number of merges, which is 1000 in this case\n",
        "vocab_en = bpe_vocab_init(vocab_en)\n",
        "num_merges = 1000\n",
        "\n",
        "for i in range(num_merges):\n",
        "  letter_pairs = get_pairs_freq(vocab_en)\n",
        "  max_freq_pair = max(letter_pairs, key=letter_pairs.get)\n",
        "  vocab_en = bpe_merge(vocab_en, max_freq_pair)\n",
        "\n",
        "display(Markdown(\"##English Text\"))\n",
        "tokens_bpe = vocab_tokens(vocab_en)\n",
        "sorted_tokens_bpe = sorted(tokens_bpe.items(), key=lambda x: x[1], reverse=True)\n",
        "display(Markdown(\"####50 most frequent tokens are:\"))\n",
        "print(sorted_tokens_bpe[:50])\n",
        "display(Markdown(\"####50 least frequent tokens are:\"))\n",
        "print(sorted_tokens_bpe[-50:])\n",
        "\n",
        "# get random 10 indices, we choose after index 3000 because we made bpe vocab from 1000 indices from the start, and we took some buffer\n",
        "random_indices = random.sample(range(3001, 10000), 10)\n",
        "check_words = [list(freq_unigrams_en)[i] for i in random_indices]\n",
        "display(Markdown(\"####Tokenization of 10 unknown words:\"))\n",
        "\n",
        "# Tokenization of 10 random test words\n",
        "for test_word in check_words:\n",
        "  token_list = []\n",
        "  find_tokenisation(test_word + '#', tokens_bpe, token_list)\n",
        "  print(\"{0:<20}  {1:<30}\".format(test_word, str(token_list)))\n",
        "\n",
        "check_words = most_freq_en_100[:5] + least_freq_en_100[:5]\n",
        "display(Markdown(\"####Comparison of 10 previously morphologically analysed words:\"))\n",
        "print(\"{0:<20}{1:50}{2:50}\".format(\"Word\", \"From Morphological Parsing\",\"From BPE\"))\n",
        "for word in check_words:\n",
        "  token_list = []\n",
        "  find_tokenisation(word + '#', tokens_bpe, token_list)\n",
        "  print(\"{0:<20}{1:50}{2:50}\".format(str(word), str(Word(word, language=\"en\").morphemes), str(token_list)))\n"
      ],
      "execution_count": null,
      "outputs": [
        {
          "output_type": "display_data",
          "data": {
            "text/markdown": "##English Text",
            "text/plain": [
              "<IPython.core.display.Markdown object>"
            ]
          },
          "metadata": {
            "tags": []
          }
        },
        {
          "output_type": "display_data",
          "data": {
            "text/markdown": "####50 most frequent tokens are:",
            "text/plain": [
              "<IPython.core.display.Markdown object>"
            ]
          },
          "metadata": {
            "tags": []
          }
        },
        {
          "output_type": "stream",
          "text": [
            "[('the#', 1083394), ('and#', 498234), ('was#', 210600), ('The#', 185104), ('for#', 134955), ('with#', 122534), ('that#', 111073), ('were#', 102616), ('from#', 94024), ('his#', 72322), ('are#', 65124), ('which#', 63495), ('had#', 58807), ('has#', 40502), ('not#', 39793), ('also#', 39082), ('have#', 35996), ('their#', 34599), ('but#', 32675), ('first#', 31067), ('its#', 30949), ('this#', 30477), ('one#', 29760), ('years#', 28550), ('been#', 28122), ('other#', 27357), ('two#', 26105), ('more#', 25355), ('all#', 25250), ('there#', 25076), ('under#', 23031), ('they#', 22733), ('over#', 22060), ('such#', 21763), ('into#', 21396), ('can#', 21276), ('used#', 20526), ('after#', 20244), ('time#', 19953), ('most#', 18745), ('This#', 18717), ('her#', 18508), ('when#', 18030), ('only#', 17972), ('made#', 17780), ('than#', 17462), ('There#', 17269), ('some#', 17249), ('between#', 16452), ('average#', 15979)]\n"
          ],
          "name": "stdout"
        },
        {
          "output_type": "display_data",
          "data": {
            "text/markdown": "####50 least frequent tokens are:",
            "text/plain": [
              "<IPython.core.display.Markdown object>"
            ]
          },
          "metadata": {
            "tags": []
          }
        },
        {
          "output_type": "stream",
          "text": [
            "[('mu', 11), ('ir#', 11), ('ch#', 10), ('w', 8), (',', 8), ('lu', 8), ('en', 8), ('characteri', 8), ('bari', 7), ('cts#', 7), ('od', 6), ('tassi', 6), ('4', 6), (':', 5), ('an#', 4), ('dy#', 4), ('M', 4), ('sub', 4), ('lead', 4), ('energ', 4), ('enty', 4), ('thi', 4), ('residu', 3), ('ron', 3), ('ter', 2), ('Ger', 2), ('la', 2), ('dron#', 2), (\"'\", 2), ('ce#', 2), ('is#', 2), ('boron', 2), ('cor', 1), ('us', 1), ('le#', 1), ('transurani', 1), ('range', 1), ('ranged#', 1), ('ton', 1), ('non', 1), ('recoverable#', 1), ('releasing#', 1), ('roun', 1), ('ununo', 1), ('adi', 1), ('lan', 1), ('thanum', 1), ('talu', 1), ('ev', 1), ('dal', 1)]\n"
          ],
          "name": "stdout"
        },
        {
          "output_type": "display_data",
          "data": {
            "text/markdown": "####Tokenization of 10 unknown words:",
            "text/plain": [
              "<IPython.core.display.Markdown object>"
            ]
          },
          "metadata": {
            "tags": []
          }
        },
        {
          "output_type": "stream",
          "text": [
            "imagination           ['im', 'a', 'gi', 'n', 'a', 'ti', 'on']\n",
            "ammoniacum            ['am', 'mo', 'ni', 'a', 'cu', 'm']\n",
            "phrases               ['ph', 'ra', 's', 'e', 's']   \n",
            "matches               ['ma', 't', 'ch', 'e', 's']   \n",
            "speech                ['spe', 'e', 'ch']            \n",
            "rests                 ['re', 'st', 's']             \n",
            "characterizes         ['characteri', 'z', 'e', 's'] \n",
            "Conan                 ['C', 'on', 'an']             \n",
            "amygdala              ['am', 'y', 'g', 'dal', 'a']  \n",
            "aster                 ['a', 'st', 'er']             \n"
          ],
          "name": "stdout"
        },
        {
          "output_type": "display_data",
          "data": {
            "text/markdown": "####Comparison of 10 previously morphologically analysed words:",
            "text/plain": [
              "<IPython.core.display.Markdown object>"
            ]
          },
          "metadata": {
            "tags": []
          }
        },
        {
          "output_type": "stream",
          "text": [
            "Word                From Morphological Parsing                        From BPE                                          \n",
            "his                 ['hi', 's']                                       ['h', 'i', 's']                                   \n",
            "with                ['with']                                          ['wi', 'th']                                      \n",
            "other               ['other']                                         ['o', 'ther']                                     \n",
            "be                  ['be']                                            ['be']                                            \n",
            "18                  ['18']                                            ['18']                                            \n",
            "ununoctium          ['un', 'un', 'oc', 't', 'ium']                    ['ununo', 'cti', 'u', 'm']                        \n",
            "vanadium-50         ['van', 'ad', 'ium', '-', '50']                   ['v', 'an', 'adi', 'u', 'm', '-', '5', '0']       \n",
            "13.5g               ['1', '3.5', 'g']                                 ['1', '3', '.', '5', 'g']                         \n",
            "Transuranic         ['Trans', 'ura', 'nic']                           ['T', 'ran', 'sur', 'an', 'i', 'c']               \n",
            "scanning-tunneling-microscope['s', 'can', 'ning', '-', 'tunnel', 'ing', '-', 'micro', 'scope']['s', 'ca', 'n', 'ni', 'n', 'g', '-', 't', 'un', 'ne', 'li', 'n', 'g', '-', 'mi', 'c', 'ro', 's', 'cop', 'e']\n"
          ],
          "name": "stdout"
        }
      ]
    },
    {
      "cell_type": "code",
      "metadata": {
        "id": "rCef7sNd33Em",
        "outputId": "7f1cd0e8-0b21-4574-8320-a8576f4f7933",
        "colab": {
          "base_uri": "https://localhost:8080/",
          "height": 708
        }
      },
      "source": [
        "# BPE for Hindi Text, taking 1000 tokens and doing 1000 merges\n",
        "vocab_hi = {}\n",
        "count=0\n",
        "\n",
        "for token, freq in freq_unigrams_hi.items():\n",
        "  if len(token) > 2:                                  # don't want to take punctuation marks in our vocabulary\n",
        "    vocab_hi[token] = freq\n",
        "    count+=1  \n",
        "  if count > 1000:\n",
        "    break\n",
        "\n",
        "# making the vocab and defining number of merges, which is 1000 in this case\n",
        "vocab_hi = bpe_vocab_init(vocab_hi)\n",
        "num_merges = 1000\n",
        "\n",
        "for i in range(num_merges):\n",
        "  letter_pairs = get_pairs_freq(vocab_hi)\n",
        "  max_freq_pair = max(letter_pairs, key=letter_pairs.get)\n",
        "  vocab_hi = bpe_merge(vocab_hi, max_freq_pair)\n",
        "\n",
        "display(Markdown(\"##Hindi Text\"))\n",
        "tokens_bpe = vocab_tokens(vocab_hi)\n",
        "sorted_tokens_bpe = sorted(tokens_bpe.items(), key=lambda x: x[1], reverse=True)\n",
        "display(Markdown(\"####50 most frequent tokens are:\"))\n",
        "print(sorted_tokens_bpe[:50])\n",
        "display(Markdown(\"####50 least frequent tokens are:\"))\n",
        "print(sorted_tokens_bpe[-50:])\n",
        "\n",
        "# get random 10 indices, we choose after index 2000 because we made bpe vocab from 1000 indices from the start, and we took some buffer\n",
        "random_indices = random.sample(range(2001, 10000), 10)\n",
        "check_words = [list(freq_unigrams_hi)[i] for i in random_indices]\n",
        "display(Markdown(\"####Tokenization of 10 unknown words:\"))\n",
        "\n",
        "# Tokenization of 10 random test words\n",
        "for test_word in check_words:\n",
        "  token_list = []\n",
        "  find_tokenisation(test_word + '#', tokens_bpe, token_list)\n",
        "  print(\"{0:<20}  {1:<30}\".format(test_word, str(token_list)))\n",
        "\n",
        "check_words = most_freq_hi_100[:5] + least_freq_hi_100[:5]\n",
        "display(Markdown(\"####Comparison of 10 previously morphologically analysed words:\"))\n",
        "print(\"{0:<20}{1:50}{2:50}\".format(\"Word\", \"From Morphological Parsing\",\"From BPE\"))\n",
        "for word in check_words:\n",
        "  token_list = []\n",
        "  find_tokenisation(word + '#', tokens_bpe, token_list)\n",
        "  print(\"{0:<20}{1:50}{2:50}\".format(str(word), str(Word(word, language=\"hi\").morphemes), str(token_list)))"
      ],
      "execution_count": null,
      "outputs": [
        {
          "output_type": "display_data",
          "data": {
            "text/markdown": "##Hindi Text",
            "text/plain": [
              "<IPython.core.display.Markdown object>"
            ]
          },
          "metadata": {
            "tags": []
          }
        },
        {
          "output_type": "display_data",
          "data": {
            "text/markdown": "####50 most frequent tokens are:",
            "text/plain": [
              "<IPython.core.display.Markdown object>"
            ]
          },
          "metadata": {
            "tags": []
          }
        },
        {
          "output_type": "stream",
          "text": [
            "[('में#', 268249), ('हैं#', 85787), ('किया#', 53857), ('लिए#', 52226), ('गया#', 39123), ('रूप#', 32207), ('जाता#', 28738), ('करने#', 28440), ('साथ#', 28354), ('नहीं#', 26563), ('द्वारा#', 22877), ('तथा#', 21081), ('बाद#', 20249), ('अपने#', 19993), ('दिया#', 18776), ('होता#', 17543), ('कुछ#', 14228), ('हुआ#', 14137), ('करते#', 13756), ('हुए#', 12776), ('अधिक#', 11699), ('उन्होंने#', 11542), ('नाम#', 11306), ('सकता#', 11263), ('एवं#', 11259), ('इसके#', 11248), ('उनके#', 11209), ('करता#', 11150), ('होती#', 11111), ('भारत#', 11083), ('कारण#', 10939), ('होने#', 10867), ('अन्य#', 10415), ('वाले#', 10397), ('अपनी#', 10358), ('पहले#', 9712), ('सबसे#', 9618), ('प्रकार#', 9554), ('कहा#', 9536), ('किसी#', 9210), ('लेकिन#', 9199), ('जैसे#', 8991), ('होते#', 8922), ('जाती#', 8783), ('हुई#', 8536), ('शामिल#', 8520), ('क्षेत्र#', 8491), ('उन्हें#', 8382), ('प्राप्त#', 7970), ('तरह#', 7709)]\n"
          ],
          "name": "stdout"
        },
        {
          "output_type": "display_data",
          "data": {
            "text/markdown": "####50 least frequent tokens are:",
            "text/plain": [
              "<IPython.core.display.Markdown object>"
            ]
          },
          "metadata": {
            "tags": []
          }
        },
        {
          "output_type": "stream",
          "text": [
            "[('देख', 4), ('सबी#', 3), ('समे', 3), ('बि', 3), ('मिल', 3), ('निक', 3), ('ि#', 3), ('ुरु', 3), ('ष्य#', 3), ('जित#', 2), ('ुरहा', 2), ('d', 2), ('त्व', 2), ('दे', 2), ('विष्', 2), ('दार्थ', 2), ('“', 1), ('अक्रे', 1), ('सन#', 1), ('”', 1), ('पाठ', 1), ('शालाओं#', 1), ('डिग', 1), ('सा#', 1), ('राज्व', 1), ('ज्', 1), ('जी#', 1), ('फ़', 1), ('रह', 1), ('u', 1), ('i', 1), ('n', 1), ('स्त्र', 1), ('देव', 1), ('ब#', 1), ('लेक#', 1), ('संगार', 1), ('ुरा#', 1), ('फ#', 1), ('नारा', 1), ('की#', 1), ('बंध', 1), ('धा#', 1), ('त्र', 1), ('देवा', 1), ('विष', 1), ('संधान#', 1), ('सर्व', 1), ('यार्थ#', 1), ('श्चित#', 1)]\n"
          ],
          "name": "stdout"
        },
        {
          "output_type": "display_data",
          "data": {
            "text/markdown": "####Tokenization of 10 unknown words:",
            "text/plain": [
              "<IPython.core.display.Markdown object>"
            ]
          },
          "metadata": {
            "tags": []
          }
        },
        {
          "output_type": "stream",
          "text": [
            "चांदीमल               ['च', 'ा', 'ंद', 'ी', 'म', 'ल']\n",
            "वृतांत                ['व', 'ृ', 'त', 'ा', 'ं', 'त']\n",
            "कमप्यूटर              ['क', 'म', 'प्', 'यू', 'ट', 'र']\n",
            "रेखा                  ['र', 'े', 'ख', 'ा']          \n",
            "उद्धार                ['उद्', 'धार']                \n",
            "\n",
            "\n",
            "उसने                []                            \n",
            "”                     ['”']                         \n",
            "कहावत                 ['कह', 'ा', 'व', 'त']         \n",
            "विधा                  ['वि', 'धा']                  \n",
            "पहलू                  ['प', 'ह', 'ल', 'ू']          \n"
          ],
          "name": "stdout"
        },
        {
          "output_type": "display_data",
          "data": {
            "text/markdown": "####Comparison of 10 previously morphologically analysed words:",
            "text/plain": [
              "<IPython.core.display.Markdown object>"
            ]
          },
          "metadata": {
            "tags": []
          }
        },
        {
          "output_type": "stream",
          "text": [
            "Word                From Morphological Parsing                        From BPE                                          \n",
            "यह                  ['यह']                                            ['य', 'ह']                                        \n",
            ",                   [',']                                             []                                                \n",
            "में                 ['में']                                           ['मे', 'ं']                                       \n",
            ")                   [')']                                             []                                                \n",
            "तरह                 ['त', 'रह']                                       ['तर', 'ह']                                       \n",
            "स्त्रीलिंगवाचक      ['स्त्र', 'ी', 'लिंग', 'वाचक']                    ['स्त्र', 'ी', 'लि', 'ं', 'ग', 'वा', 'च', 'क']    \n",
            "\n",
            "प्रदत्त            ['\\n', 'प्र', 'दत्त']                             []                                                \n",
            "सूत्रसाहित्य        ['सूत्र', 'साहित्य']                              ['सू', 'त्र', 'साहित्य']                          \n",
            "\n",
            "\n",
            "सर्वानुक्रमणी     ['\\n\\n', 'सर्व', 'ानु', 'क्रमण', 'ी']             []                                                \n",
            "निभीर्कता           ['नि', 'भी', 'र्क', 'ता']                         ['नि', 'भी', 'र्', 'क', 'त', 'ा']                 \n"
          ],
          "name": "stdout"
        }
      ]
    },
    {
      "cell_type": "code",
      "metadata": {
        "id": "6vszcE42dMvX"
      },
      "source": [
        ""
      ],
      "execution_count": null,
      "outputs": []
    }
  ]
}