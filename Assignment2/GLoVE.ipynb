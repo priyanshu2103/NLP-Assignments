{
  "nbformat": 4,
  "nbformat_minor": 0,
  "metadata": {
    "colab": {
      "name": "170101049_GLoVE.ipynb",
      "provenance": [],
      "collapsed_sections": []
    },
    "kernelspec": {
      "name": "python3",
      "display_name": "Python 3"
    }
  },
  "cells": [
    {
      "cell_type": "markdown",
      "metadata": {
        "id": "RF3jiGnjppGL"
      },
      "source": [
        "#Priyanshu Singh 170101049 Assignment 2"
      ]
    },
    {
      "cell_type": "code",
      "metadata": {
        "id": "CGsyXzAxzwCf",
        "colab": {
          "base_uri": "https://localhost:8080/"
        },
        "outputId": "8bcf635d-219e-47f5-be20-2653c97d3230"
      },
      "source": [
        "import requests\n",
        "import nltk\n",
        "nltk.download('punkt')\n",
        "from IPython.display import display, Markdown\n",
        "import random, more_itertools\n",
        "! pip install sparse\n",
        "from scipy import sparse\n",
        "import numpy as np"
      ],
      "execution_count": null,
      "outputs": [
        {
          "output_type": "stream",
          "text": [
            "[nltk_data] Downloading package punkt to /root/nltk_data...\n",
            "[nltk_data]   Package punkt is already up-to-date!\n",
            "Requirement already satisfied: sparse in /usr/local/lib/python3.6/dist-packages (0.11.2)\n",
            "Requirement already satisfied: numba>=0.49 in /usr/local/lib/python3.6/dist-packages (from sparse) (0.51.2)\n",
            "Requirement already satisfied: scipy>=0.19 in /usr/local/lib/python3.6/dist-packages (from sparse) (1.4.1)\n",
            "Requirement already satisfied: numpy in /usr/local/lib/python3.6/dist-packages (from sparse) (1.18.5)\n",
            "Requirement already satisfied: setuptools in /usr/local/lib/python3.6/dist-packages (from numba>=0.49->sparse) (50.3.2)\n",
            "Requirement already satisfied: llvmlite<0.35,>=0.34.0.dev0 in /usr/local/lib/python3.6/dist-packages (from numba>=0.49->sparse) (0.34.0)\n"
          ],
          "name": "stdout"
        }
      ]
    },
    {
      "cell_type": "markdown",
      "metadata": {
        "id": "uxvNxN3fp5zB"
      },
      "source": [
        "##``Downloading the corpus``"
      ]
    },
    {
      "cell_type": "code",
      "metadata": {
        "id": "vmm-bTrh0BT1",
        "colab": {
          "base_uri": "https://localhost:8080/"
        },
        "outputId": "123ffa22-d4cf-4760-ea8d-a325e604a253"
      },
      "source": [
        "!wget https://www.dropbox.com/s/1agrh5hdnkqd24c/en_wiki.txt?dl=0        # downloads the dataset\n",
        "!mv en_wiki.txt?dl=0 en_data.txt\n",
        "\n",
        "with open(\"en_data.txt\", \"r\") as file1:         # reading the data file\n",
        "    en_text = file1.read()\n",
        "en_text = en_text.replace('\\n', '')"
      ],
      "execution_count": null,
      "outputs": [
        {
          "output_type": "stream",
          "text": [
            "--2020-11-05 17:22:14--  https://www.dropbox.com/s/1agrh5hdnkqd24c/en_wiki.txt?dl=0\n",
            "Resolving www.dropbox.com (www.dropbox.com)... 162.125.9.1, 2620:100:601d:1::a27d:501\n",
            "Connecting to www.dropbox.com (www.dropbox.com)|162.125.9.1|:443... connected.\n",
            "HTTP request sent, awaiting response... 301 Moved Permanently\n",
            "Location: /s/raw/1agrh5hdnkqd24c/en_wiki.txt [following]\n",
            "--2020-11-05 17:22:15--  https://www.dropbox.com/s/raw/1agrh5hdnkqd24c/en_wiki.txt\n",
            "Reusing existing connection to www.dropbox.com:443.\n",
            "HTTP request sent, awaiting response... 302 Found\n",
            "Location: https://uca3d5dd66e4807ef2cf5b6145c5.dl.dropboxusercontent.com/cd/0/inline/BCovwoduYGjzx6DSqJTP-E1e8jBu2AX1M0rPB15J16x4L2KS-hbdPtoy86guu-BO3u6xna0mEtu7p8k-WKy_LVLS5ETqYWWRGafFRj3ESJf6OHLMm--GxIApE873nvWYijk/file# [following]\n",
            "--2020-11-05 17:22:15--  https://uca3d5dd66e4807ef2cf5b6145c5.dl.dropboxusercontent.com/cd/0/inline/BCovwoduYGjzx6DSqJTP-E1e8jBu2AX1M0rPB15J16x4L2KS-hbdPtoy86guu-BO3u6xna0mEtu7p8k-WKy_LVLS5ETqYWWRGafFRj3ESJf6OHLMm--GxIApE873nvWYijk/file\n",
            "Resolving uca3d5dd66e4807ef2cf5b6145c5.dl.dropboxusercontent.com (uca3d5dd66e4807ef2cf5b6145c5.dl.dropboxusercontent.com)... 162.125.9.15, 2620:100:601d:15::a27d:50f\n",
            "Connecting to uca3d5dd66e4807ef2cf5b6145c5.dl.dropboxusercontent.com (uca3d5dd66e4807ef2cf5b6145c5.dl.dropboxusercontent.com)|162.125.9.15|:443... connected.\n",
            "HTTP request sent, awaiting response... 200 OK\n",
            "Length: 103092525 (98M) [text/plain]\n",
            "Saving to: ‘en_wiki.txt?dl=0’\n",
            "\n",
            "en_wiki.txt?dl=0    100%[===================>]  98.32M  58.9MB/s    in 1.7s    \n",
            "\n",
            "2020-11-05 17:22:17 (58.9 MB/s) - ‘en_wiki.txt?dl=0’ saved [103092525/103092525]\n",
            "\n"
          ],
          "name": "stdout"
        }
      ]
    },
    {
      "cell_type": "markdown",
      "metadata": {
        "id": "RH6WrBPCp-bu"
      },
      "source": [
        "##``Building Vocab and Co-occurence matrix``"
      ]
    },
    {
      "cell_type": "code",
      "metadata": {
        "id": "UAZ93jb90CR9"
      },
      "source": [
        "from collections import Counter, defaultdict\n",
        "\n",
        "# Returns a dictionary `w -> freq`, mapping word strings to word corpus frequency.\n",
        "def build_vocab(tokens_en):\n",
        "    vocab = {}\n",
        "    for token in tokens_en:\n",
        "        vocab[token] = vocab.get(token, 0) + 1\n",
        "\n",
        "    return vocab\n",
        "\n",
        "# Build a word co-occurrence list for the given corpus as described in Pennington et al.(2014)\n",
        "def build_cooccur(vocab, tokens_en, window_size):\n",
        "    cooccurence_matrix = defaultdict(lambda: 0)\n",
        "    vocab_size = len(vocab)\n",
        "\n",
        "    for i, word in enumerate(tokens_en):\n",
        "      for j in range(max(0, i - window_size), min(len(tokens_en), i + window_size + 1)):\n",
        "        if j != i and word in vocab and tokens_en[j] in vocab:\n",
        "          cooccurence_matrix[word, tokens_en[j]] = cooccurence_matrix.get((tokens_en[i], tokens_en[j]), 0) + 1\n",
        "\n",
        "    return cooccurence_matrix"
      ],
      "execution_count": null,
      "outputs": []
    },
    {
      "cell_type": "code",
      "metadata": {
        "id": "eFr1SNC_0Egt",
        "colab": {
          "base_uri": "https://localhost:8080/"
        },
        "outputId": "b95277c8-9e22-4147-a855-f3f835d9528c"
      },
      "source": [
        "from nltk.tokenize import sent_tokenize, word_tokenize\n",
        "import nltk\n",
        "import random\n",
        "nltk.download('punkt')  # in order to make \"nltk.tokenize.word_tokenize\" work\n",
        "\n",
        "tokens_en = word_tokenize(en_text)\n",
        "vocab = build_vocab(tokens_en)              \n",
        "sorted_vocab = sorted(vocab.items(), key = lambda kv:(kv[1], kv[0]), reverse = True)\n",
        "sorted_vocab = sorted_vocab[:min(10000, len(sorted_vocab))]                 # limits the vocab to a size of 10,000\n",
        "vocab = {word[0] : word[1] for word in sorted_vocab}\n",
        "cooccurence_matrix = build_cooccur(vocab, tokens_en, window_size = 4)       # window size can be adjusted, taken as 4 here\n",
        "print(\"Length of Vocab is :\", len(vocab))\n",
        "print(\"Length of cooccurence_matrix is :\", len(cooccurence_matrix))"
      ],
      "execution_count": null,
      "outputs": [
        {
          "output_type": "stream",
          "text": [
            "[nltk_data] Downloading package punkt to /root/nltk_data...\n",
            "[nltk_data]   Package punkt is already up-to-date!\n",
            "Length of Vocab is : 10000\n",
            "Length of cooccurence_matrix is : 10673658\n"
          ],
          "name": "stdout"
        }
      ]
    },
    {
      "cell_type": "markdown",
      "metadata": {
        "id": "fIcGg88rqFj9"
      },
      "source": [
        "##``Gradient Descent``"
      ]
    },
    {
      "cell_type": "code",
      "metadata": {
        "id": "--9E-VWs0GOx"
      },
      "source": [
        "import numpy as np\n",
        "\n",
        "# function f(x) which is used to calculate cost\n",
        "def f(x, x_max, alpha):\n",
        "  if x < x_max:\n",
        "    return (x / x_max) ** alpha\n",
        "  else:\n",
        "    return 1\n",
        "\n",
        "# does one step of the gradient descent algorithm\n",
        "def CostUpd_iter(vocab, cooccurence_matrix, W_center, U_context, bias_center, bias_context, learning_rate, x_max, alpha):\n",
        "  \n",
        "  # initialize the gradient vectors and cost by 0\n",
        "  cost = 0\n",
        "  dW_center = np.zeros(W_center.shape, dtype = \"float64\")\n",
        "  dU_context = np.zeros(U_context.shape, dtype = \"float64\")\n",
        "  dbias_center = np.zeros(bias_center.shape, dtype = \"float64\")\n",
        "  dbias_context = np.zeros(bias_context.shape, dtype = \"float64\")\n",
        "\n",
        "  # for every main word, all the words from vocab are considered for calculation of gradients\n",
        "  # refer to report for mathematical derivations of these derivatives\n",
        "  for i, word1 in enumerate(vocab.keys()):\n",
        "    for j, word2 in enumerate(vocab.keys()):\n",
        "      x = cooccurence_matrix.get((word1, word2), 0)\n",
        "      f_x_ij = f(x, x_max, alpha)\n",
        "      gradient1 = 0\n",
        "      gradient2 = 0\n",
        "\n",
        "      if x > 0:\n",
        "        gradient1 = np.dot(W_center[i], U_context[j]) + bias_center[i] + bias_context[j] - np.log(x)\n",
        "        gradient2 = np.dot(W_center[j], U_context[i]) + bias_center[j] + bias_context[i] - np.log(x)\n",
        "        cost += f_x_ij * gradient1 * gradient1\n",
        "\n",
        "      dW_center[i] += 2 * f_x_ij * gradient1 * U_context[j]\n",
        "      dbias_center[i] += 2 * f_x_ij * gradient1\n",
        "      dU_context[i] += 2 * f_x_ij * gradient2 * W_center[j]\n",
        "      dbias_context[i] += 2 * f_x_ij * gradient2\n",
        "\n",
        "  # update the gradient vectors (W -> W - α * dW)\n",
        "  W_center = W_center - learning_rate * dW_center\n",
        "  bias_center = bias_center - learning_rate * dbias_center\n",
        "  U_context = U_context - learning_rate * dU_context\n",
        "  bias_context = bias_context - learning_rate * dbias_context\n",
        "\n",
        "  return cost, W_center, U_context, bias_center, bias_context"
      ],
      "execution_count": null,
      "outputs": []
    },
    {
      "cell_type": "markdown",
      "metadata": {
        "id": "PofPd2nNqKQ8"
      },
      "source": [
        "##``Training the model``"
      ]
    },
    {
      "cell_type": "code",
      "metadata": {
        "id": "n27PB4Ui0Hts"
      },
      "source": [
        "# main function which is called for training the corpus to calculate word embeddings\n",
        "def train_glove(vocab, cooccurence_matrix, vector_size, iterations, alpha, x_max, learning_rate):\n",
        "    vocab_size = len(vocab)\n",
        "\n",
        "    # Initialize 2 random word vector matrices in range (-0.5, 0.5] for each token,\n",
        "    # one for the token as (main) center and one for the token as context \n",
        "    W_center = (np.random.rand(vocab_size, vector_size))\n",
        "    U_context = (np.random.rand(vocab_size, vector_size))\n",
        "\n",
        "    # Bias terms, each associated with a single vector.\n",
        "    bias_center = (np.random.rand(vocab_size))\n",
        "    bias_context = (np.random.rand(vocab_size))\n",
        "\n",
        "    total_cost = 0\n",
        "\n",
        "    # prints the cost after each epoch of the training set, learning rate should be such that cost decrease\n",
        "    for i in range(iterations):\n",
        "      cost, W_center, U_context, bias_center, bias_context = CostUpd_iter(vocab, cooccurence_matrix, W_center, U_context, bias_center, bias_context, learning_rate, x_max, alpha)\n",
        "      print(\"Cost after Iteration \", i)\n",
        "      print(\" =\", cost)\n",
        "      total_cost = cost\n",
        "\n",
        "    return W_center, U_context, bias_center, bias_context, total_cost, iterations"
      ],
      "execution_count": null,
      "outputs": []
    },
    {
      "cell_type": "code",
      "metadata": {
        "id": "x_qwo__o0JRM"
      },
      "source": [
        "# calling the train function which returns us the different lists which contain main and context word embeddings\n",
        "# hyperparameters for the whole model is passed in the arguments of the train function\n",
        "\n",
        "# This piece of code runs for 4-5 hours\n",
        "W_center, U_context, bias_center, bias_context, total_cost, iterations = train_glove(vocab, cooccurence_matrix, vector_size = 100, iterations = 35, alpha = 0.75, x_max = 100, learning_rate = 0.000001)"
      ],
      "execution_count": null,
      "outputs": []
    },
    {
      "cell_type": "code",
      "metadata": {
        "id": "Q1KYcUyN0m3D"
      },
      "source": [
        "# storing the word embeddings in a dictionary\n",
        "import random\n",
        "emb = {}\n",
        "for i, word in enumerate(vocab.keys()):\n",
        "  emb[word] = W_center[i]"
      ],
      "execution_count": null,
      "outputs": []
    },
    {
      "cell_type": "markdown",
      "metadata": {
        "id": "nMpHKW1sqPEZ"
      },
      "source": [
        "##``Downloading pre-trained word embeddings``"
      ]
    },
    {
      "cell_type": "code",
      "metadata": {
        "id": "FkXKrUNdPpaV",
        "colab": {
          "base_uri": "https://localhost:8080/"
        },
        "outputId": "60ab9ebc-6240-4780-d207-9006b0aec58f"
      },
      "source": [
        "# downloads the pre-trained word embeddings\n",
        "!gdown --id 1-1-P_FT9eziKTjYucRLPU7GOdt-Jle3b\n",
        "# getting benchmark dataset Word Similarity 353\n",
        "!wget http://alfonseca.org/pubs/ws353simrel.tar.gz\n",
        "!tar -xvzf ws353simrel.tar.gz"
      ],
      "execution_count": null,
      "outputs": [
        {
          "output_type": "stream",
          "text": [
            "Downloading...\n",
            "From: https://drive.google.com/uc?id=1-1-P_FT9eziKTjYucRLPU7GOdt-Jle3b\n",
            "To: /content/drive/My Drive/glove.6B.100d.txt\n",
            "347MB [00:03, 89.8MB/s]\n",
            "--2020-11-05 18:14:26--  http://alfonseca.org/pubs/ws353simrel.tar.gz\n",
            "Resolving alfonseca.org (alfonseca.org)... 162.215.249.67\n",
            "Connecting to alfonseca.org (alfonseca.org)|162.215.249.67|:80... connected.\n",
            "HTTP request sent, awaiting response... 200 OK\n",
            "Length: 5460 (5.3K) [application/x-gzip]\n",
            "Saving to: ‘ws353simrel.tar.gz.1’\n",
            "\n",
            "ws353simrel.tar.gz. 100%[===================>]   5.33K  --.-KB/s    in 0s      \n",
            "\n",
            "2020-11-05 18:14:27 (349 MB/s) - ‘ws353simrel.tar.gz.1’ saved [5460/5460]\n",
            "\n",
            "wordsim353_sim_rel/wordsim353_agreed.txt\n",
            "wordsim353_sim_rel/wordsim353_annotator1.txt\n",
            "wordsim353_sim_rel/wordsim353_annotator2.txt\n",
            "wordsim353_sim_rel/wordsim_relatedness_goldstandard.txt\n",
            "wordsim353_sim_rel/wordsim_similarity_goldstandard.txt\n"
          ],
          "name": "stdout"
        }
      ]
    },
    {
      "cell_type": "code",
      "metadata": {
        "id": "F2ORWIEqRJJp"
      },
      "source": [
        "# get a dictionary containing pre-trained embeddings from the downloaded text file\n",
        "def extract_pretrained_word_emb():\n",
        "  with open(\"glove.6B.100d.txt\", \"r\") as f:\n",
        "    words = f.readlines()\n",
        "\n",
        "  words = [line.replace('\\n','') for line in words]\n",
        "  pre_trained_word_embeddings = {}\n",
        "\n",
        "  for line in words:\n",
        "    words = line.split()\n",
        "    vec = np.random.rand(100)\n",
        "    for i in range(1,101):\n",
        "      vec[i-1] = float(words[i])\n",
        "    pre_trained_word_embeddings[words[0]] = vec\n",
        "\n",
        "  return pre_trained_word_embeddings\n",
        "\n",
        "pre_trained_word_embeddings = extract_pretrained_word_emb()"
      ],
      "execution_count": null,
      "outputs": []
    },
    {
      "cell_type": "code",
      "metadata": {
        "id": "5ReiVM2TSckY"
      },
      "source": [
        "# calculate word similarity between two words using the given embeddings\n",
        "from scipy import spatial\n",
        "\n",
        "def check_word_similarity(word1, word2, emb):\n",
        "  return 1 - spatial.distance.cosine(emb[word1], emb[word2])"
      ],
      "execution_count": null,
      "outputs": []
    },
    {
      "cell_type": "markdown",
      "metadata": {
        "id": "6a1L6pMdqa42"
      },
      "source": [
        "##``Calculating word similarity``\n",
        "\n"
      ]
    },
    {
      "cell_type": "code",
      "metadata": {
        "id": "Zb26Ey9fRM2J",
        "colab": {
          "base_uri": "https://localhost:8080/"
        },
        "outputId": "faa111a3-0f06-4b01-cfa6-8398775cbe5e"
      },
      "source": [
        "# compares pre-trained word embedding and the trained word embedding by calculating cosine similarity\n",
        "\n",
        "with open(\"wordsim353_sim_rel/wordsim_similarity_goldstandard.txt\", \"r\") as f:\n",
        "  lines = f.readlines()\n",
        "\n",
        "lines = [line.replace('\\n', '') for line in lines]\n",
        "\n",
        "word_pairs = [] # pairs of words from Word Similarity 353 dataset\n",
        "new_trained = [] # cosine similarity values using the trained model\n",
        "pre_trained = [] # cosine similarity values using pre-trained model\n",
        "\n",
        "for line in lines:\n",
        "  words = line.split()\n",
        "\n",
        "  if words[0] in emb.keys() and words[1] in emb.keys():\n",
        "    if words[0] in pre_trained_word_embeddings.keys() and words[1] in pre_trained_word_embeddings.keys():\n",
        "      word_pairs.append(words[0] + '_' + words[1])\n",
        "      new_trained.append(check_word_similarity(words[0], words[1], emb))\n",
        "      pre_trained.append(check_word_similarity(words[0], words[1], pre_trained_word_embeddings))\n",
        "      print(words[0], words[1], check_word_similarity(words[0], words[1], emb), check_word_similarity(words[0], words[1], pre_trained_word_embeddings))"
      ],
      "execution_count": null,
      "outputs": [
        {
          "output_type": "stream",
          "text": [
            "plane car 0.03652390921143678 0.5961414305939505\n",
            "train car -0.027899742203035593 0.6822721999622072\n",
            "television radio 0.019535632567166616 0.8153580525333616\n",
            "media radio -0.004458064463829459 0.6588770837986025\n",
            "professor doctor -0.043007807688403066 0.5301827662460379\n",
            "student professor -0.009489226522699346 0.5851861425494358\n",
            "wood forest -0.02164947912503168 0.5236123063734079\n",
            "money cash 0.06615825993050928 0.8484836278805994\n",
            "king queen 0.18758836773267973 0.7507690793623848\n",
            "football soccer 0.16130101806052966 0.8732220727047814\n",
            "football basketball 0.1232395084968545 0.85556370472903\n",
            "football tennis -0.10262296219914546 0.5885030585761516\n",
            "physics chemistry 0.06537303908895964 0.8498000474285736\n",
            "drink eat -0.10139405018908176 0.6849385420942607\n",
            "car automobile 0.05258791305225008 0.6831941855554005\n",
            "journey voyage -0.09175079195765834 0.7682994212640839\n",
            "coast shore 0.09749992180861988 0.7000271785427719\n",
            "food fruit 0.03048974268029725 0.573560323492919\n",
            "money dollar -0.02968196370992726 0.5416750985333333\n",
            "money currency 0.11740757765464627 0.5285155050850442\n",
            "psychology science -0.007314247475306734 0.7279347661058165\n",
            "psychology discipline 0.0037823837391197657 0.3876716250298027\n",
            "planet star 0.003480965551814319 0.44359153086263414\n",
            "planet moon 0.104303035549693 0.6345553230278519\n",
            "planet sun 0.03556624809989495 0.4861040107672312\n",
            "cup object -0.033843366944344755 0.08495846843555077\n",
            "cup entity 0.004069167990694789 0.05027096980318835\n",
            "skin eye -0.02564205305131262 0.6734592450093859\n",
            "century year 0.06169403093104442 0.4688479080118725\n",
            "announcement news -0.015367415665140438 0.6127036197497714\n",
            "doctor personnel -0.033375468562882205 0.30401093503753795\n",
            "hospital infrastructure -0.0008326085065284428 0.2586874686708942\n",
            "life death 4.8362841444493654e-05 0.6755193637212783\n",
            "travel activity -0.12218616868617205 0.4400297577818564\n",
            "type kind -0.14355666065626105 0.6022766646132156\n",
            "street place -0.1916487865017351 0.5254853766502422\n",
            "street block 0.20067789462225305 0.5494222543117786\n",
            "cell phone -0.1011581518426743 0.5956866502846458\n",
            "profit loss 0.0036423180932736443 0.6365213690611586\n",
            "phone equipment 0.06752784714768434 0.5105828452806186\n",
            "liquid water 0.037772895258011974 0.6228422409180187\n",
            "championship tournament 0.07323550272125934 0.8293825597102064\n",
            "man woman -0.03688816125410854 0.8323494204818742\n",
            "man governor -0.05101322038494516 0.40354329263376965\n",
            "opera performance 0.03467643386288721 0.539383343214595\n",
            "glass metal 0.0010457310769057537 0.6706481476955678\n",
            "rock jazz 0.18166358390752835 0.6527013797186805\n",
            "museum theater -0.15461709330707274 0.594852963460987\n",
            "cup food 0.02198840543079117 0.29346693797001533\n",
            "journal association -0.02753092880065222 0.46033207996033876\n",
            "street children -0.06480428857395681 0.3798038543115668\n",
            "car flight 0.0920822325479752 0.44710490948435355\n",
            "space chemistry -0.0640098359945993 0.3395447995142262\n",
            "situation conclusion -0.029388432830734335 0.5361452997880869\n",
            "word similarity 0.05301478439478269 0.41938188514105534\n",
            "peace plan -0.011731254001719149 0.560730333104602\n",
            "consumer energy 0.026091070391501936 0.573922961095926\n",
            "investigation effort -0.0060530203429955964 0.5606021041371855\n",
            "image surface 0.0773378720166249 0.46509954555760946\n",
            "life term -0.0016160690803623812 0.5832718129220379\n",
            "start match 0.14325399915466264 0.5903302013554066\n",
            "computer news -0.0907775738363823 0.4043859380594922\n",
            "observation architecture -0.026666459344477866 0.23459185242474745\n",
            "coast hill 0.019590648791344867 0.3824738108434935\n",
            "deployment departure 0.16826808377945568 0.4212912002321745\n",
            "attempt peace 0.12356391338692285 0.45451630991374636\n",
            "consumer confidence 0.009519377173270893 0.5740428057085588\n",
            "start year 0.021320715563844517 0.7508665355387825\n",
            "focus life 0.17154858433189601 0.5880502501738991\n",
            "development issue -0.018800932670966164 0.4903279499092248\n",
            "theater history -0.02640774777203614 0.3983559257457314\n",
            "situation isolation -0.03952740017083056 0.508077642198463\n",
            "profit warning -0.07954875934235894 0.32675766325672584\n",
            "media trading 0.1837072812302033 0.4103916635135487\n",
            "architecture century 0.14907360901795663 0.5710220860167244\n",
            "population development -0.11385458410946958 0.44889584609113264\n",
            "stock live -0.17559497345065855 0.2614899660308916\n",
            "peace atmosphere -0.1561307618618757 0.3764390757487899\n",
            "morality marriage 0.1250464421518357 0.4087819078696564\n",
            "minority peace -0.01971598574848521 0.356416180578375\n",
            "atmosphere landscape 0.08097005116957012 0.43796830451182345\n",
            "report gain 0.05428563917937179 0.45963726062308474\n",
            "music project 0.13112039614429605 0.45663082793171883\n",
            "seven series -0.016626910402354422 0.6373168175069904\n",
            "experience music 0.10458982552688967 0.49110030151433726\n",
            "school center 0.008535014367648364 0.5876183612414245\n",
            "five month -0.12851468391237053 0.7392669412442274\n",
            "announcement production 0.012646250012062765 0.39027869272117743\n",
            "morality importance 0.11245108370415269 0.42358389643317507\n",
            "money operation 0.14629307525484758 0.4614012275536996\n",
            "delay news -0.0412141925062568 0.36830146777009876\n",
            "governor interview 0.06913125908318096 0.4081702484483075\n",
            "practice institution 0.20678668591624416 0.460948602544765\n",
            "century nation 0.08011587706000656 0.4707085131763853\n",
            "coast forest 0.16168999374318294 0.4109299882854752\n",
            "shore woodland 0.07418156170313717 0.2271584276896973\n",
            "drink car 0.03369408145297481 0.33720375957438153\n",
            "president medal -0.08273880422034763 0.2752062575562332\n",
            "peace insurance 0.037596305371156435 0.19401690661762006\n",
            "media gain 0.08194192689408863 0.4265148033086419\n",
            "announcement effort -0.14114036701075539 0.5028148281880154\n",
            "line insurance 0.07375614242516737 0.35651394731468755\n",
            "drink mother -0.07222542907840612 0.3360839148239998\n",
            "opera industry -0.19797865326199449 0.32349004346776833\n",
            "listing proximity -0.016707636502435452 0.19829779893892174\n",
            "cup article -0.001582582756687545 0.11609415185091199\n",
            "problem airport -0.025557752232868047 0.35597668804810145\n",
            "direction combination 0.004828246385325641 0.48114366435458644\n",
            "cemetery woodland 0.030886091257603998 0.47534427906441823\n",
            "possibility girl 0.14475232148916795 0.27594100142325584\n",
            "cup substance 0.0029877378463192272 0.20780545963267427\n",
            "stock egg -0.056482144069148976 0.17744458144744524\n",
            "month hotel 0.1038570046750007 0.4515900013453056\n",
            "energy secretary 0.02377117614510249 0.3920986571778853\n",
            "stock phone 0.08159556290697279 0.37602296221585085\n",
            "holy sex 0.171589671617982 0.3028572550114015\n",
            "drink ear 0.18374869819337802 0.13571267570795698\n",
            "delay racism -0.04590981053821719 0.19177706704958664\n",
            "stock life -0.0009498639832268285 0.3554474632688258\n",
            "monk slave 0.02535857166807587 0.220864577572211\n",
            "sugar approach -0.06506973469220645 0.12269932892796076\n"
          ],
          "name": "stdout"
        }
      ]
    },
    {
      "cell_type": "markdown",
      "metadata": {
        "id": "xrA5y4ILqjLu"
      },
      "source": [
        "##``Plot``"
      ]
    },
    {
      "cell_type": "code",
      "metadata": {
        "id": "d1kkqjAPShdt",
        "colab": {
          "base_uri": "https://localhost:8080/",
          "height": 288
        },
        "outputId": "a946ed02-652e-4645-cd6e-bca4e334f17c"
      },
      "source": [
        "# plotting the values to see the difference between my and pre-trained models \n",
        "\n",
        "import matplotlib.pyplot as plt\n",
        "\n",
        "indexes = [i + 1 for i in range(len(word_pairs))]\n",
        "\n",
        "plt.plot(indexes, new_trained, label = 'Freshly Trained')\n",
        "plt.plot(indexes, pre_trained, label = 'Pre-trained')\n",
        "plt.legend()\n",
        "plt.xlabel('Word pair index')\n",
        "plt.ylabel('Cosine similarity')\n",
        "plt.xticks(rotation=90)\n",
        "plt.show()"
      ],
      "execution_count": null,
      "outputs": [
        {
          "output_type": "display_data",
          "data": {
            "image/png": "[encoded data removed]",
            "text/plain": [
              "<Figure size 432x288 with 1 Axes>"
            ]
          },
          "metadata": {
            "tags": [],
            "needs_background": "light"
          }
        }
      ]
    },
    {
      "cell_type": "code",
      "metadata": {
        "id": "nlfrAT24oifJ"
      },
      "source": [
        ""
      ],
      "execution_count": null,
      "outputs": []
    }
  ]
}